{
 "cells": [
  {
   "cell_type": "markdown",
   "id": "89c07706-94e3-4b1b-9485-51cae5e6ffaa",
   "metadata": {},
   "source": [
    "# Monitoring Forests Using Aerial Imagery"
   ]
  },
  {
   "cell_type": "markdown",
   "id": "3e8a7a47-ef20-4728-9e2e-bac551597b19",
   "metadata": {},
   "source": [
    "## Data handling and preparation"
   ]
  },
  {
   "cell_type": "markdown",
   "id": "3f31e7d2",
   "metadata": {
    "heading_collapsed": true
   },
   "source": [
    "# Base model 0 & Set up"
   ]
  },
  {
   "cell_type": "markdown",
   "id": "66cde23d",
   "metadata": {
    "heading_collapsed": true,
    "hidden": true
   },
   "source": [
    "## Setup"
   ]
  },
  {
   "cell_type": "markdown",
   "id": "10f76457",
   "metadata": {
    "heading_collapsed": true,
    "hidden": true
   },
   "source": [
    "### Imports"
   ]
  },
  {
   "cell_type": "code",
   "execution_count": 1,
   "id": "d8452ff0",
   "metadata": {
    "hidden": true
   },
   "outputs": [],
   "source": [
    "import tensorflow as tf\n",
    "import numpy as np\n",
    "import csv\n",
    "import os\n",
    "import json\n",
    "import tensorflow as tf\n",
    "from tensorflow import keras\n",
    "from tensorflow.keras import layers, optimizers, datasets, metrics, Sequential, utils\n",
    "from tensorflow.keras.layers import *\n",
    "from IPython.display import HTML, display\n",
    "import matplotlib.pyplot as plt\n",
    "%matplotlib inline"
   ]
  },
  {
   "cell_type": "markdown",
   "id": "037614e5",
   "metadata": {
    "heading_collapsed": true,
    "hidden": true
   },
   "source": [
    "### Defining constants"
   ]
  },
  {
   "cell_type": "code",
   "execution_count": 2,
   "id": "259f6056",
   "metadata": {
    "hidden": true
   },
   "outputs": [],
   "source": [
    "data_dir = '/datasets/treesat'\n",
    "label_level = 2"
   ]
  },
  {
   "cell_type": "code",
   "execution_count": 3,
   "id": "22340791",
   "metadata": {
    "hidden": true
   },
   "outputs": [],
   "source": [
    "IMAGE_RESCALE = (304, 304)\n",
    "input_shape = (IMAGE_RESCALE[0], IMAGE_RESCALE[1], 4)\n",
    "batch_size = 128\n",
    "label_key = f'level_{label_level}'"
   ]
  },
  {
   "cell_type": "code",
   "execution_count": 9,
   "id": "5de10c01",
   "metadata": {
    "hidden": true
   },
   "outputs": [],
   "source": [
    "METRICS = [\n",
    "      lambda : tf.keras.metrics.TruePositives(name='tp'),\n",
    "      lambda : tf.keras.metrics.FalsePositives(name='fp'),\n",
    "      lambda : tf.keras.metrics.TrueNegatives(name='tn'),\n",
    "      lambda : tf.keras.metrics.FalseNegatives(name='fn'), \n",
    "\n",
    "      lambda : tf.keras.metrics.CategoricalAccuracy(name='Cataccuracy'),\n",
    "      lambda : tf.keras.metrics.Accuracy(name='accuracy'),\n",
    "      lambda : tf.keras.metrics.Precision(name='precision'),\n",
    "      lambda : tf.keras.metrics.Recall(name='recall'),\n",
    "      lambda : tf.keras.metrics.F1Score(name='f1Score', average='micro'),\n",
    "      lambda: tf.keras.metrics.AUC(name='auc', multi_label=True)\n",
    "    \n",
    "]\n",
    "\n",
    "def fresh_metrics():\n",
    "    return [metric() for metric in METRICS]"
   ]
  },
  {
   "cell_type": "markdown",
   "id": "257644de",
   "metadata": {
    "heading_collapsed": true,
    "hidden": true
   },
   "source": [
    "### Loading data"
   ]
  },
  {
   "cell_type": "code",
   "execution_count": 4,
   "id": "a6c2ad0a",
   "metadata": {
    "hidden": true
   },
   "outputs": [],
   "source": [
    "train_file_labels = tf.data.experimental.make_csv_dataset(\n",
    "    os.path.join(data_dir, 'train_file_labels.csv'), batch_size=batch_size, num_epochs=1)\n",
    "train_file_labels = train_file_labels.unbatch()"
   ]
  },
  {
   "cell_type": "code",
   "execution_count": 5,
   "id": "d1747ee0",
   "metadata": {
    "hidden": true
   },
   "outputs": [],
   "source": [
    "validation_file_labels = tf.data.experimental.make_csv_dataset(\n",
    "    os.path.join(data_dir, 'validation_file_labels.csv'), \n",
    "    batch_size=batch_size, num_epochs=1,\n",
    "    shuffle=False)\n",
    "validation_file_labels = validation_file_labels.unbatch()"
   ]
  },
  {
   "cell_type": "code",
   "execution_count": 6,
   "id": "c0498192",
   "metadata": {
    "hidden": true
   },
   "outputs": [],
   "source": [
    "test_file_labels = tf.data.experimental.make_csv_dataset(\n",
    "    os.path.join(data_dir, 'test_file_labels.csv'), \n",
    "    batch_size=batch_size, num_epochs=1,\n",
    "    shuffle=False)\n",
    "test_file_labels = test_file_labels.unbatch()"
   ]
  },
  {
   "cell_type": "code",
   "execution_count": 7,
   "id": "f3475f5f",
   "metadata": {
    "hidden": true
   },
   "outputs": [
    {
     "data": {
      "text/plain": [
       "{0: 'larch',\n",
       " 1: 'cleared',\n",
       " 2: 'beech',\n",
       " 3: 'oak',\n",
       " 4: 'douglas fir',\n",
       " 5: 'pine',\n",
       " 6: 'fir',\n",
       " 7: 'short-lived deciduous',\n",
       " 8: 'long-lived deciduous',\n",
       " 9: 'spruce'}"
      ]
     },
     "execution_count": 7,
     "metadata": {},
     "output_type": "execute_result"
    }
   ],
   "source": [
    "encoder_vocab_file = os.path.join(data_dir, f'level_{label_level}_vocabulary.txt')\n",
    "label_encoder = StringLookup(vocabulary=encoder_vocab_file, num_oov_indices=0, output_mode='one_hot')\n",
    "\n",
    "num_classes = len(label_encoder.get_vocabulary())\n",
    "\n",
    "label_lookup = {i: n for i, n in enumerate(label_encoder.get_vocabulary())}\n",
    "label_lookup"
   ]
  },
  {
   "cell_type": "markdown",
   "id": "15ce7da8",
   "metadata": {
    "heading_collapsed": true,
    "hidden": true
   },
   "source": [
    "### functions"
   ]
  },
  {
   "cell_type": "code",
   "execution_count": 14,
   "id": "4b226457",
   "metadata": {
    "hidden": true
   },
   "outputs": [],
   "source": [
    "def pretty_cm(cm):\n",
    "    result_table  = '<h3>Confusion matrix</h3>\\n'\n",
    "    result_table += '<table border=1>\\n'\n",
    "    result_table += f'<tr><td>&nbsp;</td><td>&nbsp;</td><th colspan={len(label_lookup)}>Predicted labels</th></tr>\\n'\n",
    "    result_table += '<tr><td>&nbsp;</td><td>&nbsp;</td>'\n",
    "\n",
    "    for _, cn in sorted(label_lookup.items()):\n",
    "        result_table += f'<td><strong>{cn}</strong></td>'\n",
    "    result_table += '</tr>\\n'\n",
    "\n",
    "    result_table += '<tr>\\n'\n",
    "    result_table += f'<th rowspan={len(label_lookup) + 1}>Actual labels</th>\\n'\n",
    "\n",
    "    for ai, an in sorted(label_lookup.items()):\n",
    "        result_table += '<tr>\\n'\n",
    "        result_table += f'  <td><strong>{an}</strong></td>\\n'\n",
    "        for pi, pn in sorted(label_lookup.items()):\n",
    "            result_table += f'  <td>{cm[ai, pi]}</td>\\n'\n",
    "        result_table += '</tr>\\n'\n",
    "    result_table += \"</table>\"\n",
    "    # print(result_table)\n",
    "    display(HTML(result_table))"
   ]
  },
  {
   "cell_type": "code",
   "execution_count": 15,
   "id": "2cf8f6a2",
   "metadata": {
    "hidden": true
   },
   "outputs": [],
   "source": [
    "# Adjusted load_image function to accept file_path and label separately\n",
    "def load_image(file_path, label):\n",
    "    # read the image from disk, decode it, resize it, and scale the pixels intensities to the range [0, 1]\n",
    "    image = tf.io.read_file(file_path)\n",
    "    image = tf.io.decode_png(image, channels=4)\n",
    "    image = tf.image.resize(image, IMAGE_RESCALE)\n",
    "    image /= 255.0\n",
    "    \n",
    "    # grab the label and encode it\n",
    "    encoded_label = label_encoder(label)\n",
    "    \n",
    "    # return the image and the one-hot encoded label\n",
    "    return image, encoded_label"
   ]
  },
  {
   "cell_type": "markdown",
   "id": "def84a4b",
   "metadata": {
    "heading_collapsed": true,
    "hidden": true
   },
   "source": [
    "### Loading the images"
   ]
  },
  {
   "cell_type": "code",
   "execution_count": 16,
   "id": "22570ad6",
   "metadata": {
    "hidden": true
   },
   "outputs": [],
   "source": [
    "train_data = train_file_labels.map(lambda fl: (fl['file_name'], fl[label_key]), \n",
    "                                      num_parallel_calls=tf.data.AUTOTUNE)\n",
    "train_data = train_data.shuffle(200)\n",
    "train_data = train_data.map(load_image, \n",
    "                                      num_parallel_calls=tf.data.AUTOTUNE)\n",
    "train_data = train_data.batch(batch_size)\n",
    "train_data = train_data.prefetch(tf.data.AUTOTUNE)"
   ]
  },
  {
   "cell_type": "code",
   "execution_count": 17,
   "id": "7520a6a8",
   "metadata": {
    "hidden": true
   },
   "outputs": [],
   "source": [
    "validation_data = validation_file_labels.map(lambda fl: (fl['file_name'], fl[label_key]), \n",
    "                                      num_parallel_calls=tf.data.AUTOTUNE)\n",
    "validation_data = validation_data.map(load_image, \n",
    "                                      num_parallel_calls=tf.data.AUTOTUNE)\n",
    "validation_data = validation_data.batch(batch_size)\n",
    "validation_data = validation_data.prefetch(tf.data.AUTOTUNE)"
   ]
  },
  {
   "cell_type": "code",
   "execution_count": 18,
   "id": "31c5113f",
   "metadata": {
    "hidden": true
   },
   "outputs": [],
   "source": [
    "test_data = test_file_labels.map(lambda fl: (fl['file_name'], fl[label_key]), \n",
    "                                      num_parallel_calls=tf.data.AUTOTUNE)\n",
    "test_data = test_data.map(load_image, \n",
    "                                      num_parallel_calls=tf.data.AUTOTUNE)\n",
    "test_data = test_data.batch(batch_size)\n",
    "test_data = test_data.prefetch(tf.data.AUTOTUNE)"
   ]
  },
  {
   "cell_type": "markdown",
   "id": "3b138fd4",
   "metadata": {
    "heading_collapsed": true,
    "hidden": true
   },
   "source": [
    "## Explore the data"
   ]
  },
  {
   "cell_type": "markdown",
   "id": "f5eb6c87",
   "metadata": {
    "heading_collapsed": true,
    "hidden": true
   },
   "source": [
    "### Class distribution"
   ]
  },
  {
   "cell_type": "code",
   "execution_count": 19,
   "id": "74c18235",
   "metadata": {
    "hidden": true
   },
   "outputs": [
    {
     "data": {
      "text/plain": [
       "array([2145., 2844., 4508., 5515., 1896., 5324.,  687., 4131., 4118.,\n",
       "       4098.], dtype=float32)"
      ]
     },
     "execution_count": 19,
     "metadata": {},
     "output_type": "execute_result"
    }
   ],
   "source": [
    "class_counts = train_file_labels.map(lambda fl: label_encoder(fl[label_key]))\n",
    "class_counts = class_counts.reduce(tf.zeros((num_classes,)),\n",
    "                             lambda o, l: tf.math.add(o, l)).numpy()\n",
    "class_counts"
   ]
  },
  {
   "cell_type": "code",
   "execution_count": 20,
   "id": "2ee6c6fa",
   "metadata": {
    "hidden": true
   },
   "outputs": [
    {
     "data": {
      "text/plain": [
       "35266.0"
      ]
     },
     "execution_count": 20,
     "metadata": {},
     "output_type": "execute_result"
    }
   ],
   "source": [
    "all_train_size = sum(class_counts)\n",
    "all_train_size"
   ]
  },
  {
   "cell_type": "code",
   "execution_count": 21,
   "id": "68b56bcf",
   "metadata": {
    "hidden": true
   },
   "outputs": [
    {
     "data": {
      "text/plain": [
       "<tf.Tensor: shape=(10,), dtype=float64, numpy=\n",
       "array([1.64410256, 1.24001406, 0.78229814, 0.63945603, 1.8600211 ,\n",
       "       0.66239669, 5.13333333, 0.8536916 , 0.8563866 , 0.86056613])>"
      ]
     },
     "execution_count": 21,
     "metadata": {},
     "output_type": "execute_result"
    }
   ],
   "source": [
    "class_weights = tf.constant([all_train_size / (10 * cc) for cc in class_counts])\n",
    "class_weights"
   ]
  },
  {
   "cell_type": "code",
   "execution_count": 22,
   "id": "319b9f8f",
   "metadata": {
    "hidden": true
   },
   "outputs": [],
   "source": [
    "def add_weight(image, one_hot_label):\n",
    "    label = tf.argmax(one_hot_label)\n",
    "    return image, one_hot_label, class_weights[label]"
   ]
  },
  {
   "cell_type": "code",
   "execution_count": 23,
   "id": "fa0cea06",
   "metadata": {
    "hidden": true
   },
   "outputs": [
    {
     "data": {
      "text/plain": [
       "<_MapDataset element_spec=(TensorSpec(shape=(304, 304, 4), dtype=tf.float32, name=None), TensorSpec(shape=(10,), dtype=tf.float32, name=None), TensorSpec(shape=(), dtype=tf.float64, name=None))>"
      ]
     },
     "execution_count": 23,
     "metadata": {},
     "output_type": "execute_result"
    }
   ],
   "source": [
    "weighted_train_data = train_data.unbatch().map(add_weight)\n",
    "weighted_train_data"
   ]
  },
  {
   "cell_type": "code",
   "execution_count": 24,
   "id": "b90e90cd",
   "metadata": {
    "hidden": true
   },
   "outputs": [],
   "source": [
    "weighted_train_data = weighted_train_data.shuffle(200)\n",
    "weighted_train_data = weighted_train_data.batch(batch_size)\n",
    "weighted_train_data = weighted_train_data.prefetch(tf.data.AUTOTUNE)"
   ]
  },
  {
   "cell_type": "code",
   "execution_count": 25,
   "id": "c7b6c046",
   "metadata": {
    "hidden": true
   },
   "outputs": [
    {
     "data": {
      "image/png": "[encoded data removed]",
      "text/plain": [
       "<Figure size 1000x800 with 1 Axes>"
      ]
     },
     "metadata": {},
     "output_type": "display_data"
    }
   ],
   "source": [
    "# Plot distribution using class names\n",
    "plt.figure(figsize=(10, 8))\n",
    "plt.bar(label_encoder.get_vocabulary(), class_counts, color='skyblue')\n",
    "plt.xlabel(\"Class Names\")\n",
    "plt.ylabel(\"Count\")\n",
    "plt.title(\"Distribution of Unique Classes\")\n",
    "plt.xticks(rotation=45, ha='right')  # Rotate x-axis labels for readability\n",
    "plt.show()  # Display the plotted distribution"
   ]
  },
  {
   "cell_type": "markdown",
   "id": "fbdf5540",
   "metadata": {
    "heading_collapsed": true,
    "hidden": true
   },
   "source": [
    "### sample images"
   ]
  },
  {
   "cell_type": "code",
   "execution_count": null,
   "id": "839901fe",
   "metadata": {
    "hidden": true
   },
   "outputs": [],
   "source": [
    "sample_images, sample_labels = train_data.as_numpy_iterator().next()\n",
    "\n",
    "plt.figure(figsize=(10, 10))\n",
    "for i in range(16):  # Adjust this number based on how many images you want to display\n",
    "    ax = plt.subplot(4, 4, i + 1)\n",
    "    plt.imshow(sample_images[i, ..., :-1]) # drop the alpha channel, to make the images more like you'd see\n",
    "#     plt.imshow(sample_images[i]) # image with alpha channel\n",
    "    label_index = np.argmax(sample_labels[i])\n",
    "    class_name = label_lookup[label_index]\n",
    "    plt.xticks([])\n",
    "    plt.yticks([])\n",
    "    plt.grid(False)\n",
    "    plt.title(class_name)"
   ]
  },
  {
   "cell_type": "markdown",
   "id": "ad3644b4",
   "metadata": {
    "heading_collapsed": true,
    "hidden": true
   },
   "source": [
    "## Create and train a base model (Model 0?)"
   ]
  },
  {
   "cell_type": "code",
   "execution_count": 21,
   "id": "d3644c89",
   "metadata": {
    "hidden": true
   },
   "outputs": [
    {
     "name": "stdout",
     "output_type": "stream",
     "text": [
      "Model: \"sequential\"\n",
      "_________________________________________________________________\n",
      " Layer (type)                Output Shape              Param #   \n",
      "=================================================================\n",
      " conv2d (Conv2D)             (None, 304, 304, 8)       808       \n",
      "                                                                 \n",
      " conv2d_1 (Conv2D)           (None, 304, 304, 8)       1608      \n",
      "                                                                 \n",
      " max_pooling2d (MaxPooling2  (None, 76, 76, 8)         0         \n",
      " D)                                                              \n",
      "                                                                 \n",
      " flatten (Flatten)           (None, 46208)             0         \n",
      "                                                                 \n",
      " dense (Dense)               (None, 128)               5914752   \n",
      "                                                                 \n",
      " dense_1 (Dense)             (None, 10)                1290      \n",
      "                                                                 \n",
      "=================================================================\n",
      "Total params: 5918458 (22.58 MB)\n",
      "Trainable params: 5918458 (22.58 MB)\n",
      "Non-trainable params: 0 (0.00 Byte)\n",
      "_________________________________________________________________\n"
     ]
    }
   ],
   "source": [
    "model_base = Sequential([\n",
    "    Conv2D(8, (5, 5), padding='same', activation='relu', input_shape=input_shape),\n",
    "    Conv2D(8, (5, 5), padding='same', activation='relu'),\n",
    "    MaxPooling2D(pool_size=(4, 4)),\n",
    "   \n",
    "    Flatten(),\n",
    "    Dense(128, activation='relu'),\n",
    "    Dense(num_classes, activation='softmax')\n",
    "])\n",
    "\n",
    "model_base.summary()"
   ]
  },
  {
   "cell_type": "code",
   "execution_count": 22,
   "id": "b5617ec0",
   "metadata": {
    "hidden": true
   },
   "outputs": [
    {
     "name": "stdout",
     "output_type": "stream",
     "text": [
      "Epoch 1/10\n",
      "276/276 [==============================] - 85s 284ms/step - loss: 2.1611 - accuracy: 0.2352 - val_loss: 1.9970 - val_accuracy: 0.2757\n",
      "Epoch 2/10\n",
      "276/276 [==============================] - 74s 269ms/step - loss: 1.8731 - accuracy: 0.3292 - val_loss: 1.9027 - val_accuracy: 0.3108\n",
      "Epoch 3/10\n",
      "276/276 [==============================] - 74s 269ms/step - loss: 1.7287 - accuracy: 0.3900 - val_loss: 1.8449 - val_accuracy: 0.3370\n",
      "Epoch 4/10\n",
      "276/276 [==============================] - 75s 271ms/step - loss: 1.5570 - accuracy: 0.4551 - val_loss: 1.9440 - val_accuracy: 0.3412\n",
      "Epoch 5/10\n",
      "276/276 [==============================] - 75s 269ms/step - loss: 1.2868 - accuracy: 0.5560 - val_loss: 2.0595 - val_accuracy: 0.3299\n",
      "Epoch 6/10\n",
      "276/276 [==============================] - 75s 269ms/step - loss: 0.9554 - accuracy: 0.6736 - val_loss: 2.3683 - val_accuracy: 0.3081\n",
      "Epoch 7/10\n",
      "276/276 [==============================] - 75s 269ms/step - loss: 0.6529 - accuracy: 0.7819 - val_loss: 2.9024 - val_accuracy: 0.3089\n",
      "Epoch 8/10\n",
      "276/276 [==============================] - 75s 269ms/step - loss: 0.3837 - accuracy: 0.8791 - val_loss: 3.5228 - val_accuracy: 0.2973\n",
      "Epoch 9/10\n",
      "276/276 [==============================] - 75s 270ms/step - loss: 0.1989 - accuracy: 0.9451 - val_loss: 4.2988 - val_accuracy: 0.2823\n",
      "Epoch 10/10\n",
      "276/276 [==============================] - 75s 270ms/step - loss: 0.1172 - accuracy: 0.9708 - val_loss: 4.9362 - val_accuracy: 0.2904\n"
     ]
    }
   ],
   "source": [
    "model_base.compile(optimizer='adam',\n",
    "              loss='categorical_crossentropy',\n",
    "              metrics=['accuracy'])\n",
    "\n",
    "history = model_base.fit(\n",
    "    train_data,\n",
    "    epochs=10,\n",
    "    validation_data=validation_data,\n",
    "    verbose=1\n",
    ")\n",
    "\n",
    "model_base.save('model_base.keras')\n",
    "with open('model_base_history.json', 'w') as f:\n",
    "    json.dump(history.history, f)"
   ]
  },
  {
   "cell_type": "code",
   "execution_count": 23,
   "id": "54f21185",
   "metadata": {
    "hidden": true
   },
   "outputs": [],
   "source": [
    "model_base = tf.keras.models.load_model('model_base.keras')\n",
    "\n",
    "with open('model_base_history.json') as f:\n",
    "    model_base_history = json.load(f)"
   ]
  },
  {
   "cell_type": "code",
   "execution_count": 24,
   "id": "bb71f682",
   "metadata": {
    "hidden": true
   },
   "outputs": [
    {
     "data": {
      "image/png": "[encoded data removed]",
      "text/plain": [
       "<Figure size 640x480 with 1 Axes>"
      ]
     },
     "metadata": {},
     "output_type": "display_data"
    },
    {
     "data": {
      "image/png": "[encoded data removed]",
      "text/plain": [
       "<Figure size 640x480 with 1 Axes>"
      ]
     },
     "metadata": {},
     "output_type": "display_data"
    }
   ],
   "source": [
    "# Assuming history contains the training history returned by model.fit\n",
    "train_loss = model_base_history['loss']\n",
    "val_loss = model_base_history['val_loss']\n",
    "train_acc = model_base_history['accuracy']\n",
    "val_acc = model_base_history['val_accuracy']\n",
    "\n",
    "# Plot loss\n",
    "plt.plot(train_loss, label='Train Loss')\n",
    "plt.plot(val_loss, label='Validation Loss')\n",
    "plt.title('Training and Validation Loss')\n",
    "plt.xlabel('Epoch')\n",
    "plt.ylabel('Loss')\n",
    "plt.legend()\n",
    "plt.grid(True)\n",
    "plt.show()\n",
    "\n",
    "# Plot accuracy\n",
    "plt.plot(train_acc, label='Train Accuracy')\n",
    "plt.plot(val_acc, label='Validation Accuracy')\n",
    "plt.title('Training and Validation Accuracy')\n",
    "plt.xlabel('Epoch')\n",
    "plt.ylabel('Accuracy')\n",
    "plt.legend()\n",
    "plt.grid(True)\n",
    "plt.show()"
   ]
  },
  {
   "cell_type": "markdown",
   "id": "da406386",
   "metadata": {
    "hidden": true
   },
   "source": [
    "### Evaluate base model"
   ]
  },
  {
   "cell_type": "code",
   "execution_count": 25,
   "id": "b2c9e3e5",
   "metadata": {
    "hidden": true
   },
   "outputs": [
    {
     "name": "stdout",
     "output_type": "stream",
     "text": [
      "79/79 [==============================] - 18s 230ms/step - loss: 5.0734 - accuracy: 0.2934\n"
     ]
    },
    {
     "data": {
      "text/plain": [
       "{'loss': 5.073359489440918, 'accuracy': 0.2934405207633972}"
      ]
     },
     "execution_count": 25,
     "metadata": {},
     "output_type": "execute_result"
    }
   ],
   "source": [
    "model_base.evaluate(test_data, return_dict=True)"
   ]
  },
  {
   "cell_type": "code",
   "execution_count": 26,
   "id": "9baf0cd5",
   "metadata": {
    "hidden": true
   },
   "outputs": [
    {
     "name": "stdout",
     "output_type": "stream",
     "text": [
      "79/79 [==============================] - 17s 210ms/step\n"
     ]
    }
   ],
   "source": [
    "test_predictions = model_base.predict(test_data)"
   ]
  },
  {
   "cell_type": "code",
   "execution_count": 27,
   "id": "6636a171",
   "metadata": {
    "hidden": true
   },
   "outputs": [
    {
     "data": {
      "text/html": [
       "<h3>Confusion matrix</h3>\n",
       "<table border=1>\n",
       "<tr><td>&nbsp;</td><td>&nbsp;</td><th colspan=10>Predicted labels</th></tr>\n",
       "<tr><td>&nbsp;</td><td>&nbsp;</td><td><strong>larch</strong></td><td><strong>cleared</strong></td><td><strong>beech</strong></td><td><strong>oak</strong></td><td><strong>douglas fir</strong></td><td><strong>pine</strong></td><td><strong>fir</strong></td><td><strong>short-lived deciduous</strong></td><td><strong>long-lived deciduous</strong></td><td><strong>spruce</strong></td></tr>\n",
       "<tr>\n",
       "<th rowspan=11>Actual labels</th>\n",
       "<tr>\n",
       "  <td><strong>larch</strong></td>\n",
       "  <td>84</td>\n",
       "  <td>5</td>\n",
       "  <td>54</td>\n",
       "  <td>109</td>\n",
       "  <td>39</td>\n",
       "  <td>154</td>\n",
       "  <td>6</td>\n",
       "  <td>46</td>\n",
       "  <td>79</td>\n",
       "  <td>61</td>\n",
       "</tr>\n",
       "<tr>\n",
       "  <td><strong>cleared</strong></td>\n",
       "  <td>39</td>\n",
       "  <td>446</td>\n",
       "  <td>63</td>\n",
       "  <td>51</td>\n",
       "  <td>13</td>\n",
       "  <td>55</td>\n",
       "  <td>1</td>\n",
       "  <td>82</td>\n",
       "  <td>82</td>\n",
       "  <td>55</td>\n",
       "</tr>\n",
       "<tr>\n",
       "  <td><strong>beech</strong></td>\n",
       "  <td>136</td>\n",
       "  <td>39</td>\n",
       "  <td>279</td>\n",
       "  <td>231</td>\n",
       "  <td>44</td>\n",
       "  <td>135</td>\n",
       "  <td>5</td>\n",
       "  <td>114</td>\n",
       "  <td>220</td>\n",
       "  <td>70</td>\n",
       "</tr>\n",
       "<tr>\n",
       "  <td><strong>oak</strong></td>\n",
       "  <td>154</td>\n",
       "  <td>20</td>\n",
       "  <td>155</td>\n",
       "  <td>573</td>\n",
       "  <td>41</td>\n",
       "  <td>144</td>\n",
       "  <td>12</td>\n",
       "  <td>146</td>\n",
       "  <td>278</td>\n",
       "  <td>44</td>\n",
       "</tr>\n",
       "<tr>\n",
       "  <td><strong>douglas fir</strong></td>\n",
       "  <td>81</td>\n",
       "  <td>8</td>\n",
       "  <td>39</td>\n",
       "  <td>66</td>\n",
       "  <td>62</td>\n",
       "  <td>120</td>\n",
       "  <td>9</td>\n",
       "  <td>33</td>\n",
       "  <td>54</td>\n",
       "  <td>70</td>\n",
       "</tr>\n",
       "<tr>\n",
       "  <td><strong>pine</strong></td>\n",
       "  <td>176</td>\n",
       "  <td>12</td>\n",
       "  <td>101</td>\n",
       "  <td>146</td>\n",
       "  <td>82</td>\n",
       "  <td>574</td>\n",
       "  <td>10</td>\n",
       "  <td>96</td>\n",
       "  <td>118</td>\n",
       "  <td>141</td>\n",
       "</tr>\n",
       "<tr>\n",
       "  <td><strong>fir</strong></td>\n",
       "  <td>33</td>\n",
       "  <td>1</td>\n",
       "  <td>15</td>\n",
       "  <td>34</td>\n",
       "  <td>14</td>\n",
       "  <td>44</td>\n",
       "  <td>3</td>\n",
       "  <td>12</td>\n",
       "  <td>27</td>\n",
       "  <td>7</td>\n",
       "</tr>\n",
       "<tr>\n",
       "  <td><strong>short-lived deciduous</strong></td>\n",
       "  <td>109</td>\n",
       "  <td>32</td>\n",
       "  <td>144</td>\n",
       "  <td>214</td>\n",
       "  <td>51</td>\n",
       "  <td>203</td>\n",
       "  <td>8</td>\n",
       "  <td>147</td>\n",
       "  <td>167</td>\n",
       "  <td>55</td>\n",
       "</tr>\n",
       "<tr>\n",
       "  <td><strong>long-lived deciduous</strong></td>\n",
       "  <td>133</td>\n",
       "  <td>23</td>\n",
       "  <td>200</td>\n",
       "  <td>305</td>\n",
       "  <td>44</td>\n",
       "  <td>180</td>\n",
       "  <td>8</td>\n",
       "  <td>92</td>\n",
       "  <td>219</td>\n",
       "  <td>47</td>\n",
       "</tr>\n",
       "<tr>\n",
       "  <td><strong>spruce</strong></td>\n",
       "  <td>94</td>\n",
       "  <td>14</td>\n",
       "  <td>77</td>\n",
       "  <td>39</td>\n",
       "  <td>56</td>\n",
       "  <td>214</td>\n",
       "  <td>2</td>\n",
       "  <td>25</td>\n",
       "  <td>53</td>\n",
       "  <td>570</td>\n",
       "</tr>\n",
       "</table>"
      ],
      "text/plain": [
       "<IPython.core.display.HTML object>"
      ]
     },
     "metadata": {},
     "output_type": "display_data"
    }
   ],
   "source": [
    "predict_labels = np.argmax(test_predictions, axis=1)\n",
    "test_labels = np.array(list(test_data.unbatch().map(lambda x, y: y).as_numpy_iterator()))\n",
    "test_labels = np.argmax(test_labels, axis=1)\n",
    "cm = tf.math.confusion_matrix(test_labels, predict_labels).numpy()\n",
    "pretty_cm(cm)"
   ]
  },
  {
   "cell_type": "markdown",
   "id": "e942703a",
   "metadata": {
    "heading_collapsed": true
   },
   "source": [
    "# More complex base model (Model 1 & 2)"
   ]
  },
  {
   "cell_type": "markdown",
   "id": "3ef36653",
   "metadata": {
    "hidden": true
   },
   "source": [
    "Run with level 1 labels for model 2 (I just made a copy of this whole notebook and changed the labels to level 1 rather than either re rewrite the code or overwrite the model's graphs and results)"
   ]
  },
  {
   "cell_type": "code",
   "execution_count": 23,
   "id": "89d4e3a0",
   "metadata": {
    "hidden": true
   },
   "outputs": [
    {
     "name": "stdout",
     "output_type": "stream",
     "text": [
      "Model: \"sequential_2\"\n",
      "_________________________________________________________________\n",
      " Layer (type)                Output Shape              Param #   \n",
      "=================================================================\n",
      " conv2d_9 (Conv2D)           (None, 304, 304, 8)       3208      \n",
      "                                                                 \n",
      " max_pooling2d_9 (MaxPoolin  (None, 152, 152, 8)       0         \n",
      " g2D)                                                            \n",
      "                                                                 \n",
      " conv2d_10 (Conv2D)          (None, 152, 152, 16)      3216      \n",
      "                                                                 \n",
      " max_pooling2d_10 (MaxPooli  (None, 76, 76, 16)        0         \n",
      " ng2D)                                                           \n",
      "                                                                 \n",
      " conv2d_11 (Conv2D)          (None, 76, 76, 32)        4640      \n",
      "                                                                 \n",
      " max_pooling2d_11 (MaxPooli  (None, 38, 38, 32)        0         \n",
      " ng2D)                                                           \n",
      "                                                                 \n",
      " dropout_2 (Dropout)         (None, 38, 38, 32)        0         \n",
      "                                                                 \n",
      " flatten_2 (Flatten)         (None, 46208)             0         \n",
      "                                                                 \n",
      " dense_4 (Dense)             (None, 128)               5914752   \n",
      "                                                                 \n",
      " dense_5 (Dense)             (None, 10)                1290      \n",
      "                                                                 \n",
      "=================================================================\n",
      "Total params: 5927106 (22.61 MB)\n",
      "Trainable params: 5927106 (22.61 MB)\n",
      "Non-trainable params: 0 (0.00 Byte)\n",
      "_________________________________________________________________\n"
     ]
    }
   ],
   "source": [
    "model_complex = Sequential([\n",
    "    Conv2D(filters=8, kernel_size=10, padding='same', input_shape=input_shape, activation='relu'),\n",
    "    MaxPooling2D(pool_size=(4, 4)),\n",
    "    Conv2D(filters=16, kernel_size=5, padding='same', activation='relu'),\n",
    "    MaxPooling2D(pool_size=(4, 4)),\n",
    "    Conv2D(filters=32, kernel_size=3, padding='same', activation='relu'),\n",
    "    MaxPooling2D(pool_size=(4, 4)),\n",
    "    Dropout(rate=0.5),\n",
    "    Flatten(),\n",
    "    Dense(128, activation='relu'),\n",
    "    Dense(num_classes, activation='softmax')\n",
    "])\n",
    "\n",
    "model_complex.summary()   "
   ]
  },
  {
   "cell_type": "code",
   "execution_count": 8,
   "id": "8939372c",
   "metadata": {
    "hidden": true
   },
   "outputs": [
    {
     "name": "stdout",
     "output_type": "stream",
     "text": [
      "WARNING:tensorflow:Compiled the loaded model, but the compiled metrics have yet to be built. `model.compile_metrics` will be empty until you train or evaluate the model.\n",
      "Model: \"sequential\"\n",
      "_________________________________________________________________\n",
      " Layer (type)                Output Shape              Param #   \n",
      "=================================================================\n",
      " conv2d (Conv2D)             (None, 304, 304, 8)       3208      \n",
      "                                                                 \n",
      " max_pooling2d (MaxPooling2  (None, 76, 76, 8)         0         \n",
      " D)                                                              \n",
      "                                                                 \n",
      " conv2d_1 (Conv2D)           (None, 76, 76, 16)        3216      \n",
      "                                                                 \n",
      " max_pooling2d_1 (MaxPoolin  (None, 19, 19, 16)        0         \n",
      " g2D)                                                            \n",
      "                                                                 \n",
      " conv2d_2 (Conv2D)           (None, 19, 19, 32)        4640      \n",
      "                                                                 \n",
      " max_pooling2d_2 (MaxPoolin  (None, 4, 4, 32)          0         \n",
      " g2D)                                                            \n",
      "                                                                 \n",
      " dropout (Dropout)           (None, 4, 4, 32)          0         \n",
      "                                                                 \n",
      " flatten (Flatten)           (None, 512)               0         \n",
      "                                                                 \n",
      " dense (Dense)               (None, 128)               65664     \n",
      "                                                                 \n",
      " dense_1 (Dense)             (None, 10)                1290      \n",
      "                                                                 \n",
      "=================================================================\n",
      "Total params: 78018 (304.76 KB)\n",
      "Trainable params: 78018 (304.76 KB)\n",
      "Non-trainable params: 0 (0.00 Byte)\n",
      "_________________________________________________________________\n"
     ]
    },
    {
     "name": "stderr",
     "output_type": "stream",
     "text": [
      "/usr/local/lib/python3.8/dist-packages/keras/src/engine/training.py:3000: UserWarning: You are saving your model as an HDF5 file via `model.save()`. This file format is considered legacy. We recommend using instead the native Keras format, e.g. `model.save('my_model.keras')`.\n",
      "  saving_api.save_model(\n"
     ]
    }
   ],
   "source": [
    "#Copy to make the graphic with\n",
    "model_1 = Sequential([\n",
    "    Conv2D(filters=8, kernel_size=10, padding='same', input_shape=input_shape, activation='relu'),\n",
    "    MaxPooling2D(pool_size=(4, 4)),\n",
    "    Conv2D(filters=16, kernel_size=5, padding='same', activation='relu'),\n",
    "    MaxPooling2D(pool_size=(4, 4)),\n",
    "    Conv2D(filters=32, kernel_size=3, padding='same', activation='relu'),\n",
    "    MaxPooling2D(pool_size=(4, 4)),\n",
    "    Dropout(rate=0.5),\n",
    "    Flatten(),\n",
    "    Dense(128, activation='relu'),\n",
    "    Dense(num_classes, activation='softmax')\n",
    "])\n",
    "model_1.save('example_model1.h5',save_format='h5')\n",
    "model_1.summary()   "
   ]
  },
  {
   "cell_type": "code",
   "execution_count": 24,
   "id": "c18f3586",
   "metadata": {
    "hidden": true
   },
   "outputs": [
    {
     "name": "stdout",
     "output_type": "stream",
     "text": [
      "Epoch 1/10\n"
     ]
    },
    {
     "name": "stderr",
     "output_type": "stream",
     "text": [
      "2024-05-25 20:03:48.018203: E tensorflow/core/grappler/optimizers/meta_optimizer.cc:954] layout failed: INVALID_ARGUMENT: Size of values 0 does not match size of permutation 4 @ fanin shape insequential_2/dropout_2/dropout/SelectV2-2-TransposeNHWCToNCHW-LayoutOptimizer\n"
     ]
    },
    {
     "name": "stdout",
     "output_type": "stream",
     "text": [
      "276/276 [==============================] - 95s 313ms/step - loss: 2.0793 - accuracy: 0.2278 - val_loss: 1.9676 - val_accuracy: 0.2940\n",
      "Epoch 2/10\n",
      "276/276 [==============================] - 83s 301ms/step - loss: 1.8601 - accuracy: 0.3165 - val_loss: 1.7582 - val_accuracy: 0.3569\n",
      "Epoch 3/10\n",
      "276/276 [==============================] - 83s 300ms/step - loss: 1.7169 - accuracy: 0.3871 - val_loss: 1.7050 - val_accuracy: 0.3839\n",
      "Epoch 4/10\n",
      "276/276 [==============================] - 84s 302ms/step - loss: 1.6179 - accuracy: 0.4270 - val_loss: 1.6035 - val_accuracy: 0.4276\n",
      "Epoch 5/10\n",
      "276/276 [==============================] - 83s 301ms/step - loss: 1.5212 - accuracy: 0.4584 - val_loss: 1.5532 - val_accuracy: 0.4500\n",
      "Epoch 6/10\n",
      "276/276 [==============================] - 84s 302ms/step - loss: 1.4372 - accuracy: 0.4831 - val_loss: 1.5511 - val_accuracy: 0.4498\n",
      "Epoch 7/10\n",
      "276/276 [==============================] - 83s 301ms/step - loss: 1.3618 - accuracy: 0.5171 - val_loss: 1.5672 - val_accuracy: 0.4379\n",
      "Epoch 8/10\n",
      "276/276 [==============================] - 83s 301ms/step - loss: 1.2589 - accuracy: 0.5503 - val_loss: 1.5680 - val_accuracy: 0.4496\n",
      "Epoch 9/10\n",
      "276/276 [==============================] - 83s 301ms/step - loss: 1.1625 - accuracy: 0.5858 - val_loss: 1.6303 - val_accuracy: 0.4410\n",
      "Epoch 10/10\n",
      "276/276 [==============================] - 83s 301ms/step - loss: 1.0714 - accuracy: 0.6214 - val_loss: 1.6393 - val_accuracy: 0.4408\n"
     ]
    }
   ],
   "source": [
    "model_complex.compile(optimizer='adam',\n",
    "              loss='categorical_crossentropy',\n",
    "              metrics=['accuracy'])\n",
    "\n",
    "history = model_complex.fit(\n",
    "    train_data,\n",
    "    epochs=10,\n",
    "    validation_data=validation_data,\n",
    "    verbose=1\n",
    ")\n",
    "\n",
    "model_complex.save('model_complex.keras')\n",
    "with open('model_complex_history.json', 'w') as f:\n",
    "    json.dump(history.history, f)"
   ]
  },
  {
   "cell_type": "code",
   "execution_count": 21,
   "id": "aca56671",
   "metadata": {
    "hidden": true
   },
   "outputs": [],
   "source": [
    "model_complex = tf.keras.models.load_model('model_complex.keras')\n",
    "\n",
    "with open('model_complex_history.json') as f:\n",
    "   model_complex_history = json.load(f)"
   ]
  },
  {
   "cell_type": "code",
   "execution_count": 22,
   "id": "85b83684",
   "metadata": {
    "hidden": true
   },
   "outputs": [
    {
     "data": {
      "image/png": "[encoded data removed]",
      "text/plain": [
       "<Figure size 640x480 with 1 Axes>"
      ]
     },
     "metadata": {},
     "output_type": "display_data"
    },
    {
     "data": {
      "image/png": "[encoded data removed]",
      "text/plain": [
       "<Figure size 640x480 with 1 Axes>"
      ]
     },
     "metadata": {},
     "output_type": "display_data"
    }
   ],
   "source": [
    "# Assuming history contains the training history returned by model.fit\n",
    "train_loss = model_complex_history['loss']\n",
    "val_loss = model_complex_history['val_loss']\n",
    "train_acc = model_complex_history['accuracy']\n",
    "val_acc = model_complex_history['val_accuracy']\n",
    "\n",
    "# Plot loss\n",
    "plt.plot(train_loss, label='Train Loss')\n",
    "plt.plot(val_loss, label='Validation Loss')\n",
    "plt.title('Training and Validation Loss')\n",
    "plt.xlabel('Epoch')\n",
    "plt.ylabel('Loss')\n",
    "plt.legend()\n",
    "plt.grid(True)\n",
    "plt.show()\n",
    "\n",
    "# Plot accuracy\n",
    "plt.plot(train_acc, label='Train Accuracy')\n",
    "plt.plot(val_acc, label='Validation Accuracy')\n",
    "plt.title('Training and Validation Accuracy')\n",
    "plt.xlabel('Epoch')\n",
    "plt.ylabel('Accuracy')\n",
    "plt.legend()\n",
    "plt.grid(True)\n",
    "plt.show()"
   ]
  },
  {
   "cell_type": "code",
   "execution_count": 22,
   "id": "f8ae6444",
   "metadata": {
    "hidden": true
   },
   "outputs": [
    {
     "name": "stdout",
     "output_type": "stream",
     "text": [
      "79/79 [==============================] - 21s 232ms/step - loss: 1.4063 - accuracy: 0.4920\n"
     ]
    },
    {
     "data": {
      "text/plain": [
       "{'loss': 1.4062886238098145, 'accuracy': 0.49201151728630066}"
      ]
     },
     "execution_count": 22,
     "metadata": {},
     "output_type": "execute_result"
    }
   ],
   "source": [
    "model_complex.evaluate(test_data, return_dict=True)"
   ]
  },
  {
   "cell_type": "code",
   "execution_count": 26,
   "id": "d983b151",
   "metadata": {
    "hidden": true
   },
   "outputs": [
    {
     "name": "stdout",
     "output_type": "stream",
     "text": [
      "79/79 [==============================] - 16s 201ms/step\n"
     ]
    }
   ],
   "source": [
    "test_predictions = model_complex.predict(test_data)"
   ]
  },
  {
   "cell_type": "code",
   "execution_count": 27,
   "id": "fa92c569",
   "metadata": {
    "hidden": true
   },
   "outputs": [
    {
     "data": {
      "text/html": [
       "<h3>Confusion matrix</h3>\n",
       "<table border=1>\n",
       "<tr><td>&nbsp;</td><td>&nbsp;</td><th colspan=10>Predicted labels</th></tr>\n",
       "<tr><td>&nbsp;</td><td>&nbsp;</td><td><strong>larch</strong></td><td><strong>cleared</strong></td><td><strong>beech</strong></td><td><strong>oak</strong></td><td><strong>douglas fir</strong></td><td><strong>pine</strong></td><td><strong>fir</strong></td><td><strong>short-lived deciduous</strong></td><td><strong>long-lived deciduous</strong></td><td><strong>spruce</strong></td></tr>\n",
       "<tr>\n",
       "<th rowspan=11>Actual labels</th>\n",
       "<tr>\n",
       "  <td><strong>larch</strong></td>\n",
       "  <td>11</td>\n",
       "  <td>3</td>\n",
       "  <td>20</td>\n",
       "  <td>31</td>\n",
       "  <td>29</td>\n",
       "  <td>313</td>\n",
       "  <td>1</td>\n",
       "  <td>95</td>\n",
       "  <td>59</td>\n",
       "  <td>75</td>\n",
       "</tr>\n",
       "<tr>\n",
       "  <td><strong>cleared</strong></td>\n",
       "  <td>0</td>\n",
       "  <td>673</td>\n",
       "  <td>75</td>\n",
       "  <td>32</td>\n",
       "  <td>0</td>\n",
       "  <td>11</td>\n",
       "  <td>0</td>\n",
       "  <td>54</td>\n",
       "  <td>7</td>\n",
       "  <td>35</td>\n",
       "</tr>\n",
       "<tr>\n",
       "  <td><strong>beech</strong></td>\n",
       "  <td>0</td>\n",
       "  <td>32</td>\n",
       "  <td>668</td>\n",
       "  <td>258</td>\n",
       "  <td>2</td>\n",
       "  <td>14</td>\n",
       "  <td>0</td>\n",
       "  <td>89</td>\n",
       "  <td>161</td>\n",
       "  <td>49</td>\n",
       "</tr>\n",
       "<tr>\n",
       "  <td><strong>oak</strong></td>\n",
       "  <td>0</td>\n",
       "  <td>31</td>\n",
       "  <td>160</td>\n",
       "  <td>927</td>\n",
       "  <td>3</td>\n",
       "  <td>81</td>\n",
       "  <td>0</td>\n",
       "  <td>165</td>\n",
       "  <td>173</td>\n",
       "  <td>27</td>\n",
       "</tr>\n",
       "<tr>\n",
       "  <td><strong>douglas fir</strong></td>\n",
       "  <td>4</td>\n",
       "  <td>8</td>\n",
       "  <td>10</td>\n",
       "  <td>11</td>\n",
       "  <td>134</td>\n",
       "  <td>202</td>\n",
       "  <td>1</td>\n",
       "  <td>47</td>\n",
       "  <td>12</td>\n",
       "  <td>113</td>\n",
       "</tr>\n",
       "<tr>\n",
       "  <td><strong>pine</strong></td>\n",
       "  <td>1</td>\n",
       "  <td>7</td>\n",
       "  <td>12</td>\n",
       "  <td>39</td>\n",
       "  <td>19</td>\n",
       "  <td>1027</td>\n",
       "  <td>0</td>\n",
       "  <td>91</td>\n",
       "  <td>77</td>\n",
       "  <td>183</td>\n",
       "</tr>\n",
       "<tr>\n",
       "  <td><strong>fir</strong></td>\n",
       "  <td>3</td>\n",
       "  <td>0</td>\n",
       "  <td>4</td>\n",
       "  <td>11</td>\n",
       "  <td>51</td>\n",
       "  <td>63</td>\n",
       "  <td>12</td>\n",
       "  <td>24</td>\n",
       "  <td>10</td>\n",
       "  <td>12</td>\n",
       "</tr>\n",
       "<tr>\n",
       "  <td><strong>short-lived deciduous</strong></td>\n",
       "  <td>7</td>\n",
       "  <td>44</td>\n",
       "  <td>113</td>\n",
       "  <td>189</td>\n",
       "  <td>16</td>\n",
       "  <td>246</td>\n",
       "  <td>1</td>\n",
       "  <td>311</td>\n",
       "  <td>141</td>\n",
       "  <td>62</td>\n",
       "</tr>\n",
       "<tr>\n",
       "  <td><strong>long-lived deciduous</strong></td>\n",
       "  <td>4</td>\n",
       "  <td>32</td>\n",
       "  <td>239</td>\n",
       "  <td>342</td>\n",
       "  <td>6</td>\n",
       "  <td>86</td>\n",
       "  <td>2</td>\n",
       "  <td>158</td>\n",
       "  <td>345</td>\n",
       "  <td>37</td>\n",
       "</tr>\n",
       "<tr>\n",
       "  <td><strong>spruce</strong></td>\n",
       "  <td>2</td>\n",
       "  <td>31</td>\n",
       "  <td>34</td>\n",
       "  <td>9</td>\n",
       "  <td>20</td>\n",
       "  <td>133</td>\n",
       "  <td>1</td>\n",
       "  <td>44</td>\n",
       "  <td>20</td>\n",
       "  <td>850</td>\n",
       "</tr>\n",
       "</table>"
      ],
      "text/plain": [
       "<IPython.core.display.HTML object>"
      ]
     },
     "metadata": {},
     "output_type": "display_data"
    }
   ],
   "source": [
    "predict_labels = np.argmax(test_predictions, axis=1)\n",
    "test_labels = np.array(list(test_data.unbatch().map(lambda x, y: y).as_numpy_iterator()))\n",
    "test_labels = np.argmax(test_labels, axis=1)\n",
    "cm = tf.math.confusion_matrix(test_labels, predict_labels).numpy()\n",
    "pretty_cm(cm)"
   ]
  },
  {
   "cell_type": "code",
   "execution_count": 23,
   "id": "9c955034",
   "metadata": {
    "hidden": true
   },
   "outputs": [
    {
     "name": "stdout",
     "output_type": "stream",
     "text": [
      "79/79 [==============================] - 20s 236ms/step - loss: 0.0000e+00 - tp: 2995.0000 - fp: 1363.0000 - tn: 89330.0000 - fn: 7082.0000 - Cataccuracy: 0.4920 - accuracy: 0.0000e+00 - precision: 0.6872 - recall: 0.2972 - f1Score: 0.4920 - auc: 0.8662\n"
     ]
    },
    {
     "data": {
      "text/plain": [
       "{'loss': 0.0,\n",
       " 'tp': 2995.0,\n",
       " 'fp': 1363.0,\n",
       " 'tn': 89330.0,\n",
       " 'fn': 7082.0,\n",
       " 'Cataccuracy': 0.49201151728630066,\n",
       " 'accuracy': 0.0,\n",
       " 'precision': 0.6872418522834778,\n",
       " 'recall': 0.2972114682197571,\n",
       " 'f1Score': 0.49201151728630066,\n",
       " 'auc': 0.8662424087524414}"
      ]
     },
     "execution_count": 23,
     "metadata": {},
     "output_type": "execute_result"
    }
   ],
   "source": [
    "model_complex.compile(metrics=fresh_metrics())\n",
    "model_complex_results = model_complex.evaluate(test_data, verbose=1, return_dict=True)\n",
    "model_complex_results"
   ]
  },
  {
   "cell_type": "markdown",
   "id": "509b666c",
   "metadata": {
    "heading_collapsed": true
   },
   "source": [
    "# Data Augmentation (Model 3)"
   ]
  },
  {
   "cell_type": "code",
   "execution_count": 21,
   "id": "aa0f7b82",
   "metadata": {
    "hidden": true
   },
   "outputs": [
    {
     "name": "stdout",
     "output_type": "stream",
     "text": [
      "Model: \"sequential\"\n",
      "_________________________________________________________________\n",
      " Layer (type)                Output Shape              Param #   \n",
      "=================================================================\n",
      " normalization (Normalizati  (None, 304, 304, 4)       9         \n",
      " on)                                                             \n",
      "                                                                 \n",
      " conv2d (Conv2D)             (None, 304, 304, 8)       3208      \n",
      "                                                                 \n",
      " max_pooling2d (MaxPooling2  (None, 76, 76, 8)         0         \n",
      " D)                                                              \n",
      "                                                                 \n",
      " conv2d_1 (Conv2D)           (None, 76, 76, 16)        3216      \n",
      "                                                                 \n",
      " max_pooling2d_1 (MaxPoolin  (None, 19, 19, 16)        0         \n",
      " g2D)                                                            \n",
      "                                                                 \n",
      " conv2d_2 (Conv2D)           (None, 19, 19, 32)        4640      \n",
      "                                                                 \n",
      " max_pooling2d_2 (MaxPoolin  (None, 4, 4, 32)          0         \n",
      " g2D)                                                            \n",
      "                                                                 \n",
      " dropout (Dropout)           (None, 4, 4, 32)          0         \n",
      "                                                                 \n",
      " flatten (Flatten)           (None, 512)               0         \n",
      "                                                                 \n",
      " dense (Dense)               (None, 128)               65664     \n",
      "                                                                 \n",
      " dense_1 (Dense)             (None, 10)                1290      \n",
      "                                                                 \n",
      "=================================================================\n",
      "Total params: 78027 (304.80 KB)\n",
      "Trainable params: 78018 (304.76 KB)\n",
      "Non-trainable params: 9 (40.00 Byte)\n",
      "_________________________________________________________________\n"
     ]
    }
   ],
   "source": [
    "norm_layer = layers.Normalization(input_shape=input_shape)\n",
    "norm_layer.adapt(train_data.map(lambda x, y: x))\n",
    "\n",
    "model_aug = Sequential([\n",
    "    norm_layer,\n",
    "    Conv2D(filters=8, kernel_size=10, padding='same', input_shape=input_shape, activation='relu'),\n",
    "    MaxPooling2D(pool_size=(4, 4)),\n",
    "    Conv2D(filters=16, kernel_size=5, padding='same', activation='relu'),\n",
    "    MaxPooling2D(pool_size=(4, 4)),\n",
    "    Conv2D(filters=32, kernel_size=3, padding='same', activation='relu'),\n",
    "    MaxPooling2D(pool_size=(4, 4)),\n",
    "    Dropout(rate=0.5),\n",
    "    Flatten(),\n",
    "    Dense(128, activation='relu'),\n",
    "    Dense(num_classes, activation='softmax')\n",
    "])\n",
    "\n",
    "model_aug.summary()   "
   ]
  },
  {
   "cell_type": "code",
   "execution_count": 22,
   "id": "3aef02d3",
   "metadata": {
    "hidden": true
   },
   "outputs": [],
   "source": [
    "# Image Translation \n",
    "data_augmentation = tf.keras.Sequential([\n",
    "  layers.RandomTranslation(height_factor=0.2, width_factor=0.2)\n",
    "])\n",
    "\n",
    "# Augmented all the images in our train_data\n",
    "aug_train_data = train_data.map(lambda x, y: (data_augmentation(x, training=True), y), \n",
    "                    num_parallel_calls=tf.data.AUTOTUNE)\n",
    "aug_train_data = aug_train_data.prefetch(buffer_size=tf.data.AUTOTUNE)"
   ]
  },
  {
   "cell_type": "code",
   "execution_count": 23,
   "id": "74b933ef",
   "metadata": {
    "hidden": true
   },
   "outputs": [
    {
     "name": "stdout",
     "output_type": "stream",
     "text": [
      "Epoch 1/10\n"
     ]
    },
    {
     "name": "stderr",
     "output_type": "stream",
     "text": [
      "2024-05-22 15:51:48.772659: E tensorflow/core/grappler/optimizers/meta_optimizer.cc:954] layout failed: INVALID_ARGUMENT: Size of values 0 does not match size of permutation 4 @ fanin shape insequential/dropout/dropout/SelectV2-2-TransposeNHWCToNCHW-LayoutOptimizer\n"
     ]
    },
    {
     "name": "stdout",
     "output_type": "stream",
     "text": [
      "276/276 [==============================] - 207s 718ms/step - loss: 1.8370 - accuracy: 0.3377 - val_loss: 1.5719 - val_accuracy: 0.4410\n",
      "Epoch 2/10\n",
      "276/276 [==============================] - 208s 747ms/step - loss: 1.5764 - accuracy: 0.4361 - val_loss: 1.5548 - val_accuracy: 0.4361\n",
      "Epoch 3/10\n",
      "276/276 [==============================] - 207s 745ms/step - loss: 1.5005 - accuracy: 0.4640 - val_loss: 1.4381 - val_accuracy: 0.4833\n",
      "Epoch 4/10\n",
      "276/276 [==============================] - 207s 745ms/step - loss: 1.4675 - accuracy: 0.4767 - val_loss: 1.4711 - val_accuracy: 0.4627\n",
      "Epoch 5/10\n",
      "276/276 [==============================] - 207s 743ms/step - loss: 1.4406 - accuracy: 0.4855 - val_loss: 1.4247 - val_accuracy: 0.4865\n",
      "Epoch 6/10\n",
      "276/276 [==============================] - 208s 747ms/step - loss: 1.4160 - accuracy: 0.4984 - val_loss: 1.3471 - val_accuracy: 0.5234\n",
      "Epoch 7/10\n",
      "276/276 [==============================] - 207s 743ms/step - loss: 1.4002 - accuracy: 0.5023 - val_loss: 1.3334 - val_accuracy: 0.5318\n",
      "Epoch 8/10\n",
      "276/276 [==============================] - 208s 747ms/step - loss: 1.3770 - accuracy: 0.5112 - val_loss: 1.2966 - val_accuracy: 0.5435\n",
      "Epoch 9/10\n",
      "276/276 [==============================] - 208s 747ms/step - loss: 1.3579 - accuracy: 0.5177 - val_loss: 1.3094 - val_accuracy: 0.5302\n",
      "Epoch 10/10\n",
      "276/276 [==============================] - 208s 747ms/step - loss: 1.3428 - accuracy: 0.5216 - val_loss: 1.3223 - val_accuracy: 0.5318\n"
     ]
    }
   ],
   "source": [
    "model_aug.compile(optimizer='adam',\n",
    "              loss='categorical_crossentropy',\n",
    "              metrics=['accuracy'])\n",
    "\n",
    "history = model_aug.fit(\n",
    "    aug_train_data,\n",
    "    epochs=10,\n",
    "    validation_data=validation_data,\n",
    "    verbose=1\n",
    ")\n",
    "\n",
    "model_aug.save('model_aug.keras')\n",
    "with open('model_aug_history.json', 'w') as f:\n",
    "    json.dump(history.history, f)"
   ]
  },
  {
   "cell_type": "code",
   "execution_count": 28,
   "id": "deaf98f2",
   "metadata": {
    "hidden": true
   },
   "outputs": [],
   "source": [
    "model_aug = tf.keras.models.load_model('model_aug.keras')\n",
    "\n",
    "with open('model_aug_history.json') as f:\n",
    "   model_aug_history = json.load(f)"
   ]
  },
  {
   "cell_type": "code",
   "execution_count": 29,
   "id": "fff9b396",
   "metadata": {
    "hidden": true
   },
   "outputs": [
    {
     "data": {
      "image/png": "[encoded data removed]",
      "text/plain": [
       "<Figure size 640x480 with 1 Axes>"
      ]
     },
     "metadata": {},
     "output_type": "display_data"
    },
    {
     "data": {
      "image/png": "[encoded data removed]",
      "text/plain": [
       "<Figure size 640x480 with 1 Axes>"
      ]
     },
     "metadata": {},
     "output_type": "display_data"
    }
   ],
   "source": [
    "# Assuming history contains the training history returned by model.fit\n",
    "train_loss = model_aug_history['loss']\n",
    "val_loss = model_aug_history['val_loss']\n",
    "train_acc = model_aug_history['accuracy']\n",
    "val_acc = model_aug_history['val_accuracy']\n",
    "\n",
    "# Plot loss\n",
    "plt.plot(train_loss, label='Train Loss')\n",
    "plt.plot(val_loss, label='Validation Loss')\n",
    "plt.title('Training and Validation Loss')\n",
    "plt.xlabel('Epoch')\n",
    "plt.ylabel('Loss')\n",
    "plt.legend()\n",
    "plt.grid(True)\n",
    "plt.show()\n",
    "\n",
    "# Plot accuracy\n",
    "plt.plot(train_acc, label='Train Accuracy')\n",
    "plt.plot(val_acc, label='Validation Accuracy')\n",
    "plt.title('Training and Validation Accuracy')\n",
    "plt.xlabel('Epoch')\n",
    "plt.ylabel('Accuracy')\n",
    "plt.legend()\n",
    "plt.grid(True)\n",
    "plt.show()"
   ]
  },
  {
   "cell_type": "code",
   "execution_count": 26,
   "id": "3f02a9c6",
   "metadata": {
    "hidden": true
   },
   "outputs": [
    {
     "name": "stdout",
     "output_type": "stream",
     "text": [
      "79/79 [==============================] - 19s 234ms/step - loss: 1.3182 - accuracy: 0.5286\n"
     ]
    },
    {
     "data": {
      "text/plain": [
       "{'loss': 1.318243145942688, 'accuracy': 0.5286295413970947}"
      ]
     },
     "execution_count": 26,
     "metadata": {},
     "output_type": "execute_result"
    }
   ],
   "source": [
    "model_aug.evaluate(test_data, return_dict=True)"
   ]
  },
  {
   "cell_type": "code",
   "execution_count": 27,
   "id": "80666204",
   "metadata": {
    "hidden": true
   },
   "outputs": [
    {
     "name": "stdout",
     "output_type": "stream",
     "text": [
      "79/79 [==============================] - 16s 202ms/step\n"
     ]
    }
   ],
   "source": [
    "test_predictions = model_aug.predict(test_data)"
   ]
  },
  {
   "cell_type": "code",
   "execution_count": 28,
   "id": "9b90d72e",
   "metadata": {
    "hidden": true
   },
   "outputs": [
    {
     "data": {
      "text/html": [
       "<h3>Confusion matrix</h3>\n",
       "<table border=1>\n",
       "<tr><td>&nbsp;</td><td>&nbsp;</td><th colspan=10>Predicted labels</th></tr>\n",
       "<tr><td>&nbsp;</td><td>&nbsp;</td><td><strong>larch</strong></td><td><strong>cleared</strong></td><td><strong>beech</strong></td><td><strong>oak</strong></td><td><strong>douglas fir</strong></td><td><strong>pine</strong></td><td><strong>fir</strong></td><td><strong>short-lived deciduous</strong></td><td><strong>long-lived deciduous</strong></td><td><strong>spruce</strong></td></tr>\n",
       "<tr>\n",
       "<th rowspan=11>Actual labels</th>\n",
       "<tr>\n",
       "  <td><strong>larch</strong></td>\n",
       "  <td>128</td>\n",
       "  <td>4</td>\n",
       "  <td>20</td>\n",
       "  <td>59</td>\n",
       "  <td>12</td>\n",
       "  <td>134</td>\n",
       "  <td>2</td>\n",
       "  <td>56</td>\n",
       "  <td>134</td>\n",
       "  <td>88</td>\n",
       "</tr>\n",
       "<tr>\n",
       "  <td><strong>cleared</strong></td>\n",
       "  <td>1</td>\n",
       "  <td>657</td>\n",
       "  <td>85</td>\n",
       "  <td>46</td>\n",
       "  <td>0</td>\n",
       "  <td>18</td>\n",
       "  <td>0</td>\n",
       "  <td>27</td>\n",
       "  <td>15</td>\n",
       "  <td>38</td>\n",
       "</tr>\n",
       "<tr>\n",
       "  <td><strong>beech</strong></td>\n",
       "  <td>5</td>\n",
       "  <td>29</td>\n",
       "  <td>751</td>\n",
       "  <td>212</td>\n",
       "  <td>0</td>\n",
       "  <td>6</td>\n",
       "  <td>0</td>\n",
       "  <td>28</td>\n",
       "  <td>217</td>\n",
       "  <td>25</td>\n",
       "</tr>\n",
       "<tr>\n",
       "  <td><strong>oak</strong></td>\n",
       "  <td>2</td>\n",
       "  <td>33</td>\n",
       "  <td>242</td>\n",
       "  <td>1063</td>\n",
       "  <td>1</td>\n",
       "  <td>16</td>\n",
       "  <td>1</td>\n",
       "  <td>29</td>\n",
       "  <td>164</td>\n",
       "  <td>16</td>\n",
       "</tr>\n",
       "<tr>\n",
       "  <td><strong>douglas fir</strong></td>\n",
       "  <td>32</td>\n",
       "  <td>9</td>\n",
       "  <td>7</td>\n",
       "  <td>59</td>\n",
       "  <td>83</td>\n",
       "  <td>164</td>\n",
       "  <td>12</td>\n",
       "  <td>30</td>\n",
       "  <td>39</td>\n",
       "  <td>107</td>\n",
       "</tr>\n",
       "<tr>\n",
       "  <td><strong>pine</strong></td>\n",
       "  <td>50</td>\n",
       "  <td>13</td>\n",
       "  <td>10</td>\n",
       "  <td>75</td>\n",
       "  <td>0</td>\n",
       "  <td>1058</td>\n",
       "  <td>0</td>\n",
       "  <td>115</td>\n",
       "  <td>83</td>\n",
       "  <td>52</td>\n",
       "</tr>\n",
       "<tr>\n",
       "  <td><strong>fir</strong></td>\n",
       "  <td>17</td>\n",
       "  <td>0</td>\n",
       "  <td>10</td>\n",
       "  <td>36</td>\n",
       "  <td>11</td>\n",
       "  <td>32</td>\n",
       "  <td>34</td>\n",
       "  <td>16</td>\n",
       "  <td>21</td>\n",
       "  <td>13</td>\n",
       "</tr>\n",
       "<tr>\n",
       "  <td><strong>short-lived deciduous</strong></td>\n",
       "  <td>23</td>\n",
       "  <td>52</td>\n",
       "  <td>114</td>\n",
       "  <td>352</td>\n",
       "  <td>0</td>\n",
       "  <td>84</td>\n",
       "  <td>0</td>\n",
       "  <td>249</td>\n",
       "  <td>212</td>\n",
       "  <td>44</td>\n",
       "</tr>\n",
       "<tr>\n",
       "  <td><strong>long-lived deciduous</strong></td>\n",
       "  <td>2</td>\n",
       "  <td>40</td>\n",
       "  <td>358</td>\n",
       "  <td>328</td>\n",
       "  <td>1</td>\n",
       "  <td>10</td>\n",
       "  <td>0</td>\n",
       "  <td>36</td>\n",
       "  <td>454</td>\n",
       "  <td>22</td>\n",
       "</tr>\n",
       "<tr>\n",
       "  <td><strong>spruce</strong></td>\n",
       "  <td>13</td>\n",
       "  <td>29</td>\n",
       "  <td>18</td>\n",
       "  <td>53</td>\n",
       "  <td>8</td>\n",
       "  <td>81</td>\n",
       "  <td>3</td>\n",
       "  <td>23</td>\n",
       "  <td>66</td>\n",
       "  <td>850</td>\n",
       "</tr>\n",
       "</table>"
      ],
      "text/plain": [
       "<IPython.core.display.HTML object>"
      ]
     },
     "metadata": {},
     "output_type": "display_data"
    }
   ],
   "source": [
    "predict_labels = np.argmax(test_predictions, axis=1)\n",
    "test_labels = np.array(list(test_data.unbatch().map(lambda x, y: y).as_numpy_iterator()))\n",
    "test_labels = np.argmax(test_labels, axis=1)\n",
    "cm = tf.math.confusion_matrix(test_labels, predict_labels).numpy()\n",
    "pretty_cm(cm)"
   ]
  },
  {
   "cell_type": "code",
   "execution_count": 30,
   "id": "7fcbe676",
   "metadata": {
    "hidden": true
   },
   "outputs": [
    {
     "name": "stdout",
     "output_type": "stream",
     "text": [
      "79/79 [==============================] - 16s 195ms/step - loss: 0.0000e+00 - tp: 3634.0000 - fp: 1481.0000 - tn: 89212.0000 - fn: 6443.0000 - accuracy: 0.5286 - precision: 0.7105 - recall: 0.3606 - f1Score: 0.5286 - auc: 0.8841\n"
     ]
    },
    {
     "data": {
      "text/plain": [
       "{'loss': 0.0,\n",
       " 'tp': 3634.0,\n",
       " 'fp': 1481.0,\n",
       " 'tn': 89212.0,\n",
       " 'fn': 6443.0,\n",
       " 'accuracy': 0.5286295413970947,\n",
       " 'precision': 0.7104594111442566,\n",
       " 'recall': 0.36062321066856384,\n",
       " 'f1Score': 0.5286295413970947,\n",
       " 'auc': 0.8840961456298828}"
      ]
     },
     "execution_count": 30,
     "metadata": {},
     "output_type": "execute_result"
    }
   ],
   "source": [
    "model_aug.compile(metrics=fresh_metrics())\n",
    "model_aug_results = model_aug.evaluate(test_data, verbose=1, return_dict=True)\n",
    "model_aug_results"
   ]
  },
  {
   "cell_type": "markdown",
   "id": "dccb9f60",
   "metadata": {
    "heading_collapsed": true
   },
   "source": [
    "# Add weightings (Model 4)"
   ]
  },
  {
   "cell_type": "code",
   "execution_count": 21,
   "id": "a00ad65f",
   "metadata": {
    "hidden": true
   },
   "outputs": [
    {
     "name": "stdout",
     "output_type": "stream",
     "text": [
      "Model: \"sequential\"\n",
      "_________________________________________________________________\n",
      " Layer (type)                Output Shape              Param #   \n",
      "=================================================================\n",
      " conv2d (Conv2D)             (None, 304, 304, 8)       3208      \n",
      "                                                                 \n",
      " max_pooling2d (MaxPooling2  (None, 76, 76, 8)         0         \n",
      " D)                                                              \n",
      "                                                                 \n",
      " conv2d_1 (Conv2D)           (None, 76, 76, 16)        3216      \n",
      "                                                                 \n",
      " max_pooling2d_1 (MaxPoolin  (None, 19, 19, 16)        0         \n",
      " g2D)                                                            \n",
      "                                                                 \n",
      " conv2d_2 (Conv2D)           (None, 19, 19, 32)        4640      \n",
      "                                                                 \n",
      " max_pooling2d_2 (MaxPoolin  (None, 4, 4, 32)          0         \n",
      " g2D)                                                            \n",
      "                                                                 \n",
      " dropout (Dropout)           (None, 4, 4, 32)          0         \n",
      "                                                                 \n",
      " flatten (Flatten)           (None, 512)               0         \n",
      "                                                                 \n",
      " dense (Dense)               (None, 128)               65664     \n",
      "                                                                 \n",
      " dense_1 (Dense)             (None, 10)                1290      \n",
      "                                                                 \n",
      "=================================================================\n",
      "Total params: 78018 (304.76 KB)\n",
      "Trainable params: 78018 (304.76 KB)\n",
      "Non-trainable params: 0 (0.00 Byte)\n",
      "_________________________________________________________________\n"
     ]
    }
   ],
   "source": [
    "#norm_layer = layers.Normalization(input_shape=input_shape)\n",
    "#norm_layer.adapt(train_data.map(lambda x, y: x))\n",
    "\n",
    "model_weighting = Sequential([\n",
    "    Conv2D(filters=8, kernel_size=10, padding='same', input_shape=input_shape, activation='relu'),\n",
    "    MaxPooling2D(pool_size=(4, 4)),\n",
    "    Conv2D(filters=16, kernel_size=5, padding='same', activation='relu'),\n",
    "    MaxPooling2D(pool_size=(4, 4)),\n",
    "    Conv2D(filters=32, kernel_size=3, padding='same', activation='relu'),\n",
    "    MaxPooling2D(pool_size=(4, 4)),\n",
    "    Dropout(rate=0.5),\n",
    "    Flatten(),\n",
    "    Dense(128, activation='relu'),\n",
    "    Dense(num_classes, activation='softmax')\n",
    "])\n",
    "\n",
    "model_weighting.summary()  "
   ]
  },
  {
   "cell_type": "code",
   "execution_count": 22,
   "id": "abc742d2",
   "metadata": {
    "hidden": true
   },
   "outputs": [
    {
     "name": "stdout",
     "output_type": "stream",
     "text": [
      "Epoch 1/10\n"
     ]
    },
    {
     "name": "stderr",
     "output_type": "stream",
     "text": [
      "2024-05-22 16:28:49.673354: E tensorflow/core/grappler/optimizers/meta_optimizer.cc:954] layout failed: INVALID_ARGUMENT: Size of values 0 does not match size of permutation 4 @ fanin shape insequential/dropout/dropout/SelectV2-2-TransposeNHWCToNCHW-LayoutOptimizer\n"
     ]
    },
    {
     "name": "stdout",
     "output_type": "stream",
     "text": [
      "276/276 [==============================] - 95s 317ms/step - loss: 2.1953 - accuracy: 0.1579 - val_loss: 2.0545 - val_accuracy: 0.2376\n",
      "Epoch 2/10\n",
      "276/276 [==============================] - 85s 304ms/step - loss: 1.9327 - accuracy: 0.2857 - val_loss: 1.8437 - val_accuracy: 0.3172\n",
      "Epoch 3/10\n",
      "276/276 [==============================] - 81s 289ms/step - loss: 1.7645 - accuracy: 0.3620 - val_loss: 1.6817 - val_accuracy: 0.4025\n",
      "Epoch 4/10\n",
      "276/276 [==============================] - 81s 289ms/step - loss: 1.6836 - accuracy: 0.3941 - val_loss: 1.6230 - val_accuracy: 0.4194\n",
      "Epoch 5/10\n",
      "276/276 [==============================] - 81s 289ms/step - loss: 1.6244 - accuracy: 0.4111 - val_loss: 1.6234 - val_accuracy: 0.4150\n",
      "Epoch 6/10\n",
      "276/276 [==============================] - 81s 290ms/step - loss: 1.5914 - accuracy: 0.4226 - val_loss: 1.5817 - val_accuracy: 0.4283\n",
      "Epoch 7/10\n",
      "276/276 [==============================] - 80s 288ms/step - loss: 1.5616 - accuracy: 0.4325 - val_loss: 1.5868 - val_accuracy: 0.4270\n",
      "Epoch 8/10\n",
      "276/276 [==============================] - 80s 288ms/step - loss: 1.5294 - accuracy: 0.4389 - val_loss: 1.5316 - val_accuracy: 0.4476\n",
      "Epoch 9/10\n",
      "276/276 [==============================] - 81s 289ms/step - loss: 1.5079 - accuracy: 0.4459 - val_loss: 1.5228 - val_accuracy: 0.4458\n",
      "Epoch 10/10\n",
      "276/276 [==============================] - 81s 289ms/step - loss: 1.4891 - accuracy: 0.4553 - val_loss: 1.4872 - val_accuracy: 0.4514\n"
     ]
    }
   ],
   "source": [
    "model_weighting.compile(optimizer='adam',\n",
    "              loss='categorical_crossentropy',\n",
    "              metrics=['accuracy'])\n",
    "\n",
    "history = model_weighting.fit(\n",
    "    weighted_train_data,\n",
    "    epochs=10,\n",
    "    validation_data=validation_data,\n",
    "    verbose=1\n",
    ")\n",
    "\n",
    "model_weighting.save('model_weighting.keras')\n",
    "with open('model_weighting_history.json', 'w') as f:\n",
    "    json.dump(history.history, f)"
   ]
  },
  {
   "cell_type": "code",
   "execution_count": 31,
   "id": "4d2bd95b",
   "metadata": {
    "hidden": true
   },
   "outputs": [],
   "source": [
    "model_weighting = tf.keras.models.load_model('model_weighting.keras')\n",
    "\n",
    "with open('model_weighting_history.json') as f:\n",
    "   model_weighting_history = json.load(f)"
   ]
  },
  {
   "cell_type": "code",
   "execution_count": 24,
   "id": "77b21fa4",
   "metadata": {
    "hidden": true
   },
   "outputs": [
    {
     "data": {
      "image/png": "[encoded data removed]",
      "text/plain": [
       "<Figure size 640x480 with 1 Axes>"
      ]
     },
     "metadata": {},
     "output_type": "display_data"
    },
    {
     "data": {
      "image/png": "[encoded data removed]",
      "text/plain": [
       "<Figure size 640x480 with 1 Axes>"
      ]
     },
     "metadata": {},
     "output_type": "display_data"
    }
   ],
   "source": [
    "# Assuming history contains the training history returned by model.fit\n",
    "train_loss = model_weighting_history['loss']\n",
    "val_loss = model_weighting_history['val_loss']\n",
    "train_acc = model_weighting_history['accuracy']\n",
    "val_acc = model_weighting_history['val_accuracy']\n",
    "\n",
    "# Plot loss\n",
    "plt.plot(train_loss, label='Train Loss')\n",
    "plt.plot(val_loss, label='Validation Loss')\n",
    "plt.title('Training and Validation Loss')\n",
    "plt.xlabel('Epoch')\n",
    "plt.ylabel('Loss')\n",
    "plt.legend()\n",
    "plt.grid(True)\n",
    "plt.show()\n",
    "\n",
    "# Plot accuracy\n",
    "plt.plot(train_acc, label='Train Accuracy')\n",
    "plt.plot(val_acc, label='Validation Accuracy')\n",
    "plt.title('Training and Validation Accuracy')\n",
    "plt.xlabel('Epoch')\n",
    "plt.ylabel('Accuracy')\n",
    "plt.legend()\n",
    "plt.grid(True)\n",
    "plt.show()"
   ]
  },
  {
   "cell_type": "code",
   "execution_count": 25,
   "id": "c4397a60",
   "metadata": {
    "hidden": true
   },
   "outputs": [
    {
     "name": "stdout",
     "output_type": "stream",
     "text": [
      "79/79 [==============================] - 19s 236ms/step - loss: 1.4768 - accuracy: 0.4686\n"
     ]
    },
    {
     "data": {
      "text/plain": [
       "{'loss': 1.4768047332763672, 'accuracy': 0.4685918390750885}"
      ]
     },
     "execution_count": 25,
     "metadata": {},
     "output_type": "execute_result"
    }
   ],
   "source": [
    "model_weighting.evaluate(test_data, return_dict=True)"
   ]
  },
  {
   "cell_type": "code",
   "execution_count": 26,
   "id": "801fd99a",
   "metadata": {
    "hidden": true
   },
   "outputs": [
    {
     "name": "stdout",
     "output_type": "stream",
     "text": [
      "79/79 [==============================] - 16s 201ms/step\n"
     ]
    }
   ],
   "source": [
    "test_predictions = model_weighting.predict(test_data)"
   ]
  },
  {
   "cell_type": "code",
   "execution_count": 27,
   "id": "473e0250",
   "metadata": {
    "hidden": true
   },
   "outputs": [
    {
     "data": {
      "text/html": [
       "<h3>Confusion matrix</h3>\n",
       "<table border=1>\n",
       "<tr><td>&nbsp;</td><td>&nbsp;</td><th colspan=10>Predicted labels</th></tr>\n",
       "<tr><td>&nbsp;</td><td>&nbsp;</td><td><strong>larch</strong></td><td><strong>cleared</strong></td><td><strong>beech</strong></td><td><strong>oak</strong></td><td><strong>douglas fir</strong></td><td><strong>pine</strong></td><td><strong>fir</strong></td><td><strong>short-lived deciduous</strong></td><td><strong>long-lived deciduous</strong></td><td><strong>spruce</strong></td></tr>\n",
       "<tr>\n",
       "<th rowspan=11>Actual labels</th>\n",
       "<tr>\n",
       "  <td><strong>larch</strong></td>\n",
       "  <td>142</td>\n",
       "  <td>9</td>\n",
       "  <td>39</td>\n",
       "  <td>36</td>\n",
       "  <td>63</td>\n",
       "  <td>105</td>\n",
       "  <td>39</td>\n",
       "  <td>31</td>\n",
       "  <td>115</td>\n",
       "  <td>58</td>\n",
       "</tr>\n",
       "<tr>\n",
       "  <td><strong>cleared</strong></td>\n",
       "  <td>5</td>\n",
       "  <td>719</td>\n",
       "  <td>101</td>\n",
       "  <td>12</td>\n",
       "  <td>1</td>\n",
       "  <td>2</td>\n",
       "  <td>4</td>\n",
       "  <td>11</td>\n",
       "  <td>13</td>\n",
       "  <td>19</td>\n",
       "</tr>\n",
       "<tr>\n",
       "  <td><strong>beech</strong></td>\n",
       "  <td>6</td>\n",
       "  <td>34</td>\n",
       "  <td>879</td>\n",
       "  <td>128</td>\n",
       "  <td>3</td>\n",
       "  <td>3</td>\n",
       "  <td>12</td>\n",
       "  <td>16</td>\n",
       "  <td>166</td>\n",
       "  <td>26</td>\n",
       "</tr>\n",
       "<tr>\n",
       "  <td><strong>oak</strong></td>\n",
       "  <td>21</td>\n",
       "  <td>48</td>\n",
       "  <td>408</td>\n",
       "  <td>758</td>\n",
       "  <td>6</td>\n",
       "  <td>14</td>\n",
       "  <td>24</td>\n",
       "  <td>31</td>\n",
       "  <td>245</td>\n",
       "  <td>12</td>\n",
       "</tr>\n",
       "<tr>\n",
       "  <td><strong>douglas fir</strong></td>\n",
       "  <td>41</td>\n",
       "  <td>13</td>\n",
       "  <td>21</td>\n",
       "  <td>18</td>\n",
       "  <td>167</td>\n",
       "  <td>62</td>\n",
       "  <td>94</td>\n",
       "  <td>21</td>\n",
       "  <td>14</td>\n",
       "  <td>91</td>\n",
       "</tr>\n",
       "<tr>\n",
       "  <td><strong>pine</strong></td>\n",
       "  <td>140</td>\n",
       "  <td>20</td>\n",
       "  <td>53</td>\n",
       "  <td>37</td>\n",
       "  <td>131</td>\n",
       "  <td>663</td>\n",
       "  <td>45</td>\n",
       "  <td>55</td>\n",
       "  <td>177</td>\n",
       "  <td>135</td>\n",
       "</tr>\n",
       "<tr>\n",
       "  <td><strong>fir</strong></td>\n",
       "  <td>14</td>\n",
       "  <td>1</td>\n",
       "  <td>4</td>\n",
       "  <td>12</td>\n",
       "  <td>15</td>\n",
       "  <td>15</td>\n",
       "  <td>103</td>\n",
       "  <td>11</td>\n",
       "  <td>11</td>\n",
       "  <td>4</td>\n",
       "</tr>\n",
       "<tr>\n",
       "  <td><strong>short-lived deciduous</strong></td>\n",
       "  <td>77</td>\n",
       "  <td>68</td>\n",
       "  <td>239</td>\n",
       "  <td>218</td>\n",
       "  <td>35</td>\n",
       "  <td>36</td>\n",
       "  <td>56</td>\n",
       "  <td>81</td>\n",
       "  <td>281</td>\n",
       "  <td>39</td>\n",
       "</tr>\n",
       "<tr>\n",
       "  <td><strong>long-lived deciduous</strong></td>\n",
       "  <td>35</td>\n",
       "  <td>46</td>\n",
       "  <td>414</td>\n",
       "  <td>253</td>\n",
       "  <td>5</td>\n",
       "  <td>7</td>\n",
       "  <td>20</td>\n",
       "  <td>25</td>\n",
       "  <td>424</td>\n",
       "  <td>22</td>\n",
       "</tr>\n",
       "<tr>\n",
       "  <td><strong>spruce</strong></td>\n",
       "  <td>27</td>\n",
       "  <td>42</td>\n",
       "  <td>70</td>\n",
       "  <td>6</td>\n",
       "  <td>48</td>\n",
       "  <td>53</td>\n",
       "  <td>55</td>\n",
       "  <td>20</td>\n",
       "  <td>37</td>\n",
       "  <td>786</td>\n",
       "</tr>\n",
       "</table>"
      ],
      "text/plain": [
       "<IPython.core.display.HTML object>"
      ]
     },
     "metadata": {},
     "output_type": "display_data"
    }
   ],
   "source": [
    "predict_labels = np.argmax(test_predictions, axis=1)\n",
    "test_labels = np.array(list(test_data.unbatch().map(lambda x, y: y).as_numpy_iterator()))\n",
    "test_labels = np.argmax(test_labels, axis=1)\n",
    "cm = tf.math.confusion_matrix(test_labels, predict_labels).numpy()\n",
    "pretty_cm(cm)"
   ]
  },
  {
   "cell_type": "code",
   "execution_count": 32,
   "id": "b8a5a751",
   "metadata": {
    "hidden": true
   },
   "outputs": [
    {
     "name": "stdout",
     "output_type": "stream",
     "text": [
      "79/79 [==============================] - 16s 196ms/step - loss: 0.0000e+00 - tp: 2202.0000 - fp: 914.0000 - tn: 89779.0000 - fn: 7875.0000 - accuracy: 0.4686 - precision: 0.7067 - recall: 0.2185 - f1Score: 0.4686 - auc: 0.8618\n"
     ]
    },
    {
     "data": {
      "text/plain": [
       "{'loss': 0.0,\n",
       " 'tp': 2202.0,\n",
       " 'fp': 914.0,\n",
       " 'tn': 89779.0,\n",
       " 'fn': 7875.0,\n",
       " 'accuracy': 0.4685918390750885,\n",
       " 'precision': 0.7066752314567566,\n",
       " 'recall': 0.21851742267608643,\n",
       " 'f1Score': 0.4685918390750885,\n",
       " 'auc': 0.8618484735488892}"
      ]
     },
     "execution_count": 32,
     "metadata": {},
     "output_type": "execute_result"
    }
   ],
   "source": [
    "model_weighting.compile(metrics=fresh_metrics())\n",
    "model_weighting_results = model_weighting.evaluate(test_data, verbose=1, return_dict=True)\n",
    "model_weighting_results"
   ]
  },
  {
   "cell_type": "markdown",
   "id": "9b5b877b",
   "metadata": {
    "heading_collapsed": true
   },
   "source": [
    "# Changed model with double conv layers (Model 5)"
   ]
  },
  {
   "cell_type": "code",
   "execution_count": 27,
   "id": "457076db",
   "metadata": {
    "hidden": true
   },
   "outputs": [
    {
     "name": "stdout",
     "output_type": "stream",
     "text": [
      "Model: \"sequential_3\"\n",
      "_________________________________________________________________\n",
      " Layer (type)                Output Shape              Param #   \n",
      "=================================================================\n",
      " conv2d_12 (Conv2D)          (None, 304, 304, 8)       3208      \n",
      "                                                                 \n",
      " conv2d_13 (Conv2D)          (None, 304, 304, 8)       6408      \n",
      "                                                                 \n",
      " max_pooling2d_12 (MaxPooli  (None, 152, 152, 8)       0         \n",
      " ng2D)                                                           \n",
      "                                                                 \n",
      " conv2d_14 (Conv2D)          (None, 152, 152, 16)      3216      \n",
      "                                                                 \n",
      " conv2d_15 (Conv2D)          (None, 152, 152, 16)      6416      \n",
      "                                                                 \n",
      " max_pooling2d_13 (MaxPooli  (None, 38, 38, 16)        0         \n",
      " ng2D)                                                           \n",
      "                                                                 \n",
      " conv2d_16 (Conv2D)          (None, 38, 38, 32)        4640      \n",
      "                                                                 \n",
      " conv2d_17 (Conv2D)          (None, 38, 38, 32)        9248      \n",
      "                                                                 \n",
      " max_pooling2d_14 (MaxPooli  (None, 9, 9, 32)          0         \n",
      " ng2D)                                                           \n",
      "                                                                 \n",
      " dropout_3 (Dropout)         (None, 9, 9, 32)          0         \n",
      "                                                                 \n",
      " flatten_3 (Flatten)         (None, 2592)              0         \n",
      "                                                                 \n",
      " dense_6 (Dense)             (None, 128)               331904    \n",
      "                                                                 \n",
      " dense_7 (Dense)             (None, 10)                1290      \n",
      "                                                                 \n",
      "=================================================================\n",
      "Total params: 366330 (1.40 MB)\n",
      "Trainable params: 366330 (1.40 MB)\n",
      "Non-trainable params: 0 (0.00 Byte)\n",
      "_________________________________________________________________\n"
     ]
    }
   ],
   "source": [
    "model_changed = Sequential([\n",
    "    Conv2D(filters=8, kernel_size=10, padding='same', input_shape=input_shape, activation='relu'),\n",
    "    Conv2D(filters=8, kernel_size=10, padding='same', activation='relu'),\n",
    "    MaxPooling2D(pool_size=(2, 2)),\n",
    "    Conv2D(filters=16, kernel_size=5, padding='same', activation='relu'),\n",
    "    Conv2D(filters=16, kernel_size=5, padding='same', activation='relu'),\n",
    "    MaxPooling2D(pool_size=(4, 4)),\n",
    "    Conv2D(filters=32, kernel_size=3, padding='same', activation='relu'),\n",
    "    Conv2D(filters=32, kernel_size=3, padding='same', activation='relu'),\n",
    "    MaxPooling2D(pool_size=(4, 4)),\n",
    "    Dropout(rate=0.5),\n",
    "    Flatten(),\n",
    "    Dense(128, activation='relu'),\n",
    "    Dense(num_classes, activation='softmax')\n",
    "])\n",
    "\n",
    "model_changed.summary()  "
   ]
  },
  {
   "cell_type": "code",
   "execution_count": 28,
   "id": "88aeaf1f",
   "metadata": {
    "hidden": true
   },
   "outputs": [
    {
     "name": "stdout",
     "output_type": "stream",
     "text": [
      "Epoch 1/10\n"
     ]
    },
    {
     "name": "stderr",
     "output_type": "stream",
     "text": [
      "2024-05-25 20:24:00.243929: E tensorflow/core/grappler/optimizers/meta_optimizer.cc:954] layout failed: INVALID_ARGUMENT: Size of values 0 does not match size of permutation 4 @ fanin shape insequential_3/dropout_3/dropout/SelectV2-2-TransposeNHWCToNCHW-LayoutOptimizer\n"
     ]
    },
    {
     "name": "stdout",
     "output_type": "stream",
     "text": [
      "276/276 [==============================] - 201s 663ms/step - loss: 1.9727 - accuracy: 0.2673 - val_loss: 1.6820 - val_accuracy: 0.3888\n",
      "Epoch 2/10\n",
      "276/276 [==============================] - 176s 637ms/step - loss: 1.6401 - accuracy: 0.3982 - val_loss: 1.5854 - val_accuracy: 0.4115\n",
      "Epoch 3/10\n",
      "276/276 [==============================] - 176s 637ms/step - loss: 1.5194 - accuracy: 0.4477 - val_loss: 1.4622 - val_accuracy: 0.4680\n",
      "Epoch 4/10\n",
      "276/276 [==============================] - 176s 638ms/step - loss: 1.4409 - accuracy: 0.4772 - val_loss: 1.4670 - val_accuracy: 0.4680\n",
      "Epoch 5/10\n",
      "276/276 [==============================] - 176s 637ms/step - loss: 1.3829 - accuracy: 0.4980 - val_loss: 1.4275 - val_accuracy: 0.4794\n",
      "Epoch 6/10\n",
      "276/276 [==============================] - 176s 636ms/step - loss: 1.3236 - accuracy: 0.5212 - val_loss: 1.3526 - val_accuracy: 0.5175\n",
      "Epoch 7/10\n",
      "276/276 [==============================] - 176s 637ms/step - loss: 1.2770 - accuracy: 0.5405 - val_loss: 1.2991 - val_accuracy: 0.5312\n",
      "Epoch 8/10\n",
      "276/276 [==============================] - 176s 637ms/step - loss: 1.2362 - accuracy: 0.5545 - val_loss: 1.2837 - val_accuracy: 0.5314\n",
      "Epoch 9/10\n",
      "276/276 [==============================] - 176s 637ms/step - loss: 1.1956 - accuracy: 0.5701 - val_loss: 1.3059 - val_accuracy: 0.5179\n",
      "Epoch 10/10\n",
      "276/276 [==============================] - 176s 637ms/step - loss: 1.1572 - accuracy: 0.5833 - val_loss: 1.2425 - val_accuracy: 0.5518\n"
     ]
    }
   ],
   "source": [
    "model_changed.compile(optimizer='adam',\n",
    "              loss='categorical_crossentropy',\n",
    "              metrics=['accuracy'])\n",
    "\n",
    "history = model_changed.fit(\n",
    "    train_data,\n",
    "    epochs=10,\n",
    "    validation_data=validation_data,\n",
    "    verbose=1\n",
    ")\n",
    "\n",
    "model_changed.save('model_changed.keras')\n",
    "with open('model_changed_history.json', 'w') as f:\n",
    "    json.dump(history.history, f)"
   ]
  },
  {
   "cell_type": "code",
   "execution_count": 29,
   "id": "7c12862a",
   "metadata": {
    "hidden": true
   },
   "outputs": [],
   "source": [
    "model_changed = tf.keras.models.load_model('model_changed.keras')\n",
    "\n",
    "with open('model_changed_history.json') as f:\n",
    "   model_changed_history = json.load(f)"
   ]
  },
  {
   "cell_type": "code",
   "execution_count": 30,
   "id": "0e0d80ce",
   "metadata": {
    "hidden": true
   },
   "outputs": [
    {
     "data": {
      "image/png": "[encoded data removed]",
      "text/plain": [
       "<Figure size 640x480 with 1 Axes>"
      ]
     },
     "metadata": {},
     "output_type": "display_data"
    },
    {
     "data": {
      "image/png": "[encoded data removed]",
      "text/plain": [
       "<Figure size 640x480 with 1 Axes>"
      ]
     },
     "metadata": {},
     "output_type": "display_data"
    }
   ],
   "source": [
    "# Assuming history contains the training history returned by model.fit\n",
    "train_loss = model_changed_history['loss']\n",
    "val_loss = model_changed_history['val_loss']\n",
    "train_acc = model_changed_history['accuracy']\n",
    "val_acc = model_changed_history['val_accuracy']\n",
    "\n",
    "# Plot loss\n",
    "plt.plot(train_loss, label='Train Loss')\n",
    "plt.plot(val_loss, label='Validation Loss')\n",
    "plt.title('Training and Validation Loss')\n",
    "plt.xlabel('Epoch')\n",
    "plt.ylabel('Loss')\n",
    "plt.legend()\n",
    "plt.grid(True)\n",
    "plt.show()\n",
    "\n",
    "# Plot accuracy\n",
    "plt.plot(train_acc, label='Train Accuracy')\n",
    "plt.plot(val_acc, label='Validation Accuracy')\n",
    "plt.title('Training and Validation Accuracy')\n",
    "plt.xlabel('Epoch')\n",
    "plt.ylabel('Accuracy')\n",
    "plt.legend()\n",
    "plt.grid(True)\n",
    "plt.show()"
   ]
  },
  {
   "cell_type": "code",
   "execution_count": 31,
   "id": "138b979f",
   "metadata": {
    "hidden": true
   },
   "outputs": [
    {
     "name": "stdout",
     "output_type": "stream",
     "text": [
      "79/79 [==============================] - 21s 257ms/step - loss: 1.2455 - accuracy: 0.5544\n"
     ]
    },
    {
     "data": {
      "text/plain": [
       "{'loss': 1.245507836341858, 'accuracy': 0.5544309020042419}"
      ]
     },
     "execution_count": 31,
     "metadata": {},
     "output_type": "execute_result"
    }
   ],
   "source": [
    "model_changed.evaluate(test_data, return_dict=True)"
   ]
  },
  {
   "cell_type": "code",
   "execution_count": 32,
   "id": "ae893b84",
   "metadata": {
    "hidden": true
   },
   "outputs": [
    {
     "name": "stdout",
     "output_type": "stream",
     "text": [
      "79/79 [==============================] - 17s 212ms/step\n"
     ]
    }
   ],
   "source": [
    "test_predictions = model_changed.predict(test_data)"
   ]
  },
  {
   "cell_type": "code",
   "execution_count": 33,
   "id": "e6f18a32",
   "metadata": {
    "hidden": true
   },
   "outputs": [
    {
     "data": {
      "text/html": [
       "<h3>Confusion matrix</h3>\n",
       "<table border=1>\n",
       "<tr><td>&nbsp;</td><td>&nbsp;</td><th colspan=10>Predicted labels</th></tr>\n",
       "<tr><td>&nbsp;</td><td>&nbsp;</td><td><strong>larch</strong></td><td><strong>cleared</strong></td><td><strong>beech</strong></td><td><strong>oak</strong></td><td><strong>douglas fir</strong></td><td><strong>pine</strong></td><td><strong>fir</strong></td><td><strong>short-lived deciduous</strong></td><td><strong>long-lived deciduous</strong></td><td><strong>spruce</strong></td></tr>\n",
       "<tr>\n",
       "<th rowspan=11>Actual labels</th>\n",
       "<tr>\n",
       "  <td><strong>larch</strong></td>\n",
       "  <td>268</td>\n",
       "  <td>3</td>\n",
       "  <td>45</td>\n",
       "  <td>6</td>\n",
       "  <td>93</td>\n",
       "  <td>86</td>\n",
       "  <td>17</td>\n",
       "  <td>52</td>\n",
       "  <td>10</td>\n",
       "  <td>57</td>\n",
       "</tr>\n",
       "<tr>\n",
       "  <td><strong>cleared</strong></td>\n",
       "  <td>3</td>\n",
       "  <td>646</td>\n",
       "  <td>108</td>\n",
       "  <td>19</td>\n",
       "  <td>0</td>\n",
       "  <td>8</td>\n",
       "  <td>1</td>\n",
       "  <td>59</td>\n",
       "  <td>6</td>\n",
       "  <td>37</td>\n",
       "</tr>\n",
       "<tr>\n",
       "  <td><strong>beech</strong></td>\n",
       "  <td>6</td>\n",
       "  <td>23</td>\n",
       "  <td>900</td>\n",
       "  <td>127</td>\n",
       "  <td>2</td>\n",
       "  <td>5</td>\n",
       "  <td>5</td>\n",
       "  <td>90</td>\n",
       "  <td>77</td>\n",
       "  <td>38</td>\n",
       "</tr>\n",
       "<tr>\n",
       "  <td><strong>oak</strong></td>\n",
       "  <td>13</td>\n",
       "  <td>23</td>\n",
       "  <td>339</td>\n",
       "  <td>904</td>\n",
       "  <td>6</td>\n",
       "  <td>17</td>\n",
       "  <td>5</td>\n",
       "  <td>138</td>\n",
       "  <td>107</td>\n",
       "  <td>15</td>\n",
       "</tr>\n",
       "<tr>\n",
       "  <td><strong>douglas fir</strong></td>\n",
       "  <td>75</td>\n",
       "  <td>9</td>\n",
       "  <td>15</td>\n",
       "  <td>7</td>\n",
       "  <td>271</td>\n",
       "  <td>37</td>\n",
       "  <td>15</td>\n",
       "  <td>15</td>\n",
       "  <td>2</td>\n",
       "  <td>96</td>\n",
       "</tr>\n",
       "<tr>\n",
       "  <td><strong>pine</strong></td>\n",
       "  <td>72</td>\n",
       "  <td>7</td>\n",
       "  <td>29</td>\n",
       "  <td>32</td>\n",
       "  <td>37</td>\n",
       "  <td>937</td>\n",
       "  <td>16</td>\n",
       "  <td>240</td>\n",
       "  <td>32</td>\n",
       "  <td>54</td>\n",
       "</tr>\n",
       "<tr>\n",
       "  <td><strong>fir</strong></td>\n",
       "  <td>24</td>\n",
       "  <td>2</td>\n",
       "  <td>19</td>\n",
       "  <td>4</td>\n",
       "  <td>43</td>\n",
       "  <td>7</td>\n",
       "  <td>59</td>\n",
       "  <td>14</td>\n",
       "  <td>6</td>\n",
       "  <td>12</td>\n",
       "</tr>\n",
       "<tr>\n",
       "  <td><strong>short-lived deciduous</strong></td>\n",
       "  <td>18</td>\n",
       "  <td>46</td>\n",
       "  <td>172</td>\n",
       "  <td>158</td>\n",
       "  <td>5</td>\n",
       "  <td>72</td>\n",
       "  <td>13</td>\n",
       "  <td>498</td>\n",
       "  <td>99</td>\n",
       "  <td>49</td>\n",
       "</tr>\n",
       "<tr>\n",
       "  <td><strong>long-lived deciduous</strong></td>\n",
       "  <td>19</td>\n",
       "  <td>32</td>\n",
       "  <td>421</td>\n",
       "  <td>286</td>\n",
       "  <td>3</td>\n",
       "  <td>19</td>\n",
       "  <td>1</td>\n",
       "  <td>173</td>\n",
       "  <td>274</td>\n",
       "  <td>23</td>\n",
       "</tr>\n",
       "<tr>\n",
       "  <td><strong>spruce</strong></td>\n",
       "  <td>33</td>\n",
       "  <td>20</td>\n",
       "  <td>47</td>\n",
       "  <td>10</td>\n",
       "  <td>68</td>\n",
       "  <td>59</td>\n",
       "  <td>20</td>\n",
       "  <td>50</td>\n",
       "  <td>7</td>\n",
       "  <td>830</td>\n",
       "</tr>\n",
       "</table>"
      ],
      "text/plain": [
       "<IPython.core.display.HTML object>"
      ]
     },
     "metadata": {},
     "output_type": "display_data"
    }
   ],
   "source": [
    "predict_labels = np.argmax(test_predictions, axis=1)\n",
    "test_labels = np.array(list(test_data.unbatch().map(lambda x, y: y).as_numpy_iterator()))\n",
    "test_labels = np.argmax(test_labels, axis=1)\n",
    "cm = tf.math.confusion_matrix(test_labels, predict_labels).numpy()\n",
    "pretty_cm(cm)"
   ]
  },
  {
   "cell_type": "code",
   "execution_count": 34,
   "id": "d4d3679f",
   "metadata": {
    "hidden": true
   },
   "outputs": [
    {
     "name": "stdout",
     "output_type": "stream",
     "text": [
      "79/79 [==============================] - 17s 200ms/step - loss: 0.0000e+00 - tp: 3778.0000 - fp: 1438.0000 - tn: 89255.0000 - fn: 6299.0000 - Cataccuracy: 0.5544 - accuracy: 0.0000e+00 - precision: 0.7243 - recall: 0.3749 - f1Score: 0.5544 - auc: 0.8987\n"
     ]
    },
    {
     "data": {
      "text/plain": [
       "{'loss': 0.0,\n",
       " 'tp': 3778.0,\n",
       " 'fp': 1438.0,\n",
       " 'tn': 89255.0,\n",
       " 'fn': 6299.0,\n",
       " 'Cataccuracy': 0.5544309020042419,\n",
       " 'accuracy': 0.0,\n",
       " 'precision': 0.7243098020553589,\n",
       " 'recall': 0.37491315603256226,\n",
       " 'f1Score': 0.5544309020042419,\n",
       " 'auc': 0.8987494707107544}"
      ]
     },
     "execution_count": 34,
     "metadata": {},
     "output_type": "execute_result"
    }
   ],
   "source": [
    "model_changed.compile(metrics=fresh_metrics())\n",
    "model_changed_results = model_changed.evaluate(test_data, verbose=1, return_dict=True)\n",
    "model_changed_results"
   ]
  },
  {
   "cell_type": "code",
   "execution_count": null,
   "id": "4c07647a",
   "metadata": {
    "hidden": true
   },
   "outputs": [],
   "source": []
  },
  {
   "cell_type": "code",
   "execution_count": null,
   "id": "6df13d51-f09b-4679-8341-3b4d399b6554",
   "metadata": {},
   "outputs": [],
   "source": []
  }
 ],
 "metadata": {
  "kernelspec": {
   "display_name": "Python 3 (ipykernel)",
   "language": "python",
   "name": "python3"
  },
  "language_info": {
   "codemirror_mode": {
    "name": "ipython",
    "version": 3
   },
   "file_extension": ".py",
   "mimetype": "text/x-python",
   "name": "python",
   "nbconvert_exporter": "python",
   "pygments_lexer": "ipython3",
   "version": "3.11.7"
  },
  "papermill": {
   "default_parameters": {},
   "duration": 1569.88073,
   "end_time": "2021-10-25T10:19:54.998449",
   "environment_variables": {},
   "exception": null,
   "input_path": "__notebook__.ipynb",
   "output_path": "__notebook__.ipynb",
   "parameters": {},
   "start_time": "2021-10-25T09:53:45.117719",
   "version": "2.3.3"
  }
 },
 "nbformat": 4,
 "nbformat_minor": 5
}
